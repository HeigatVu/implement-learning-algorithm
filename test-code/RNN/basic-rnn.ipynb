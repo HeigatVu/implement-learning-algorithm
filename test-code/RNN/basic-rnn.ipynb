{
 "cells": [
  {
   "cell_type": "code",
   "execution_count": 1,
   "id": "a55a5072",
   "metadata": {},
   "outputs": [
    {
     "name": "stderr",
     "output_type": "stream",
     "text": [
      "\n",
      "A module that was compiled using NumPy 1.x cannot be run in\n",
      "NumPy 2.2.5 as it may crash. To support both 1.x and 2.x\n",
      "versions of NumPy, modules must be compiled with NumPy 2.0.\n",
      "Some module may need to rebuild instead e.g. with 'pybind11>=2.12'.\n",
      "\n",
      "If you are a user of the module, the easiest solution will be to\n",
      "downgrade to 'numpy<2' or try to upgrade the affected module.\n",
      "We expect that some modules will need time to support NumPy 2.\n",
      "\n",
      "Traceback (most recent call last):  File \"/home/heigetvu/anaconda3/envs/test-env/lib/python3.10/runpy.py\", line 196, in _run_module_as_main\n",
      "    return _run_code(code, main_globals, None,\n",
      "  File \"/home/heigetvu/anaconda3/envs/test-env/lib/python3.10/runpy.py\", line 86, in _run_code\n",
      "    exec(code, run_globals)\n",
      "  File \"/home/heigetvu/anaconda3/envs/test-env/lib/python3.10/site-packages/ipykernel_launcher.py\", line 18, in <module>\n",
      "    app.launch_new_instance()\n",
      "  File \"/home/heigetvu/anaconda3/envs/test-env/lib/python3.10/site-packages/traitlets/config/application.py\", line 1075, in launch_instance\n",
      "    app.start()\n",
      "  File \"/home/heigetvu/anaconda3/envs/test-env/lib/python3.10/site-packages/ipykernel/kernelapp.py\", line 739, in start\n",
      "    self.io_loop.start()\n",
      "  File \"/home/heigetvu/anaconda3/envs/test-env/lib/python3.10/site-packages/tornado/platform/asyncio.py\", line 205, in start\n",
      "    self.asyncio_loop.run_forever()\n",
      "  File \"/home/heigetvu/anaconda3/envs/test-env/lib/python3.10/asyncio/base_events.py\", line 603, in run_forever\n",
      "    self._run_once()\n",
      "  File \"/home/heigetvu/anaconda3/envs/test-env/lib/python3.10/asyncio/base_events.py\", line 1909, in _run_once\n",
      "    handle._run()\n",
      "  File \"/home/heigetvu/anaconda3/envs/test-env/lib/python3.10/asyncio/events.py\", line 80, in _run\n",
      "    self._context.run(self._callback, *self._args)\n",
      "  File \"/home/heigetvu/anaconda3/envs/test-env/lib/python3.10/site-packages/ipykernel/kernelbase.py\", line 545, in dispatch_queue\n",
      "    await self.process_one()\n",
      "  File \"/home/heigetvu/anaconda3/envs/test-env/lib/python3.10/site-packages/ipykernel/kernelbase.py\", line 534, in process_one\n",
      "    await dispatch(*args)\n",
      "  File \"/home/heigetvu/anaconda3/envs/test-env/lib/python3.10/site-packages/ipykernel/kernelbase.py\", line 437, in dispatch_shell\n",
      "    await result\n",
      "  File \"/home/heigetvu/anaconda3/envs/test-env/lib/python3.10/site-packages/ipykernel/ipkernel.py\", line 362, in execute_request\n",
      "    await super().execute_request(stream, ident, parent)\n",
      "  File \"/home/heigetvu/anaconda3/envs/test-env/lib/python3.10/site-packages/ipykernel/kernelbase.py\", line 778, in execute_request\n",
      "    reply_content = await reply_content\n",
      "  File \"/home/heigetvu/anaconda3/envs/test-env/lib/python3.10/site-packages/ipykernel/ipkernel.py\", line 449, in do_execute\n",
      "    res = shell.run_cell(\n",
      "  File \"/home/heigetvu/anaconda3/envs/test-env/lib/python3.10/site-packages/ipykernel/zmqshell.py\", line 549, in run_cell\n",
      "    return super().run_cell(*args, **kwargs)\n",
      "  File \"/home/heigetvu/anaconda3/envs/test-env/lib/python3.10/site-packages/IPython/core/interactiveshell.py\", line 3077, in run_cell\n",
      "    result = self._run_cell(\n",
      "  File \"/home/heigetvu/anaconda3/envs/test-env/lib/python3.10/site-packages/IPython/core/interactiveshell.py\", line 3132, in _run_cell\n",
      "    result = runner(coro)\n",
      "  File \"/home/heigetvu/anaconda3/envs/test-env/lib/python3.10/site-packages/IPython/core/async_helpers.py\", line 128, in _pseudo_sync_runner\n",
      "    coro.send(None)\n",
      "  File \"/home/heigetvu/anaconda3/envs/test-env/lib/python3.10/site-packages/IPython/core/interactiveshell.py\", line 3336, in run_cell_async\n",
      "    has_raised = await self.run_ast_nodes(code_ast.body, cell_name,\n",
      "  File \"/home/heigetvu/anaconda3/envs/test-env/lib/python3.10/site-packages/IPython/core/interactiveshell.py\", line 3519, in run_ast_nodes\n",
      "    if await self.run_code(code, result, async_=asy):\n",
      "  File \"/home/heigetvu/anaconda3/envs/test-env/lib/python3.10/site-packages/IPython/core/interactiveshell.py\", line 3579, in run_code\n",
      "    exec(code_obj, self.user_global_ns, self.user_ns)\n",
      "  File \"/tmp/ipykernel_25751/4173629271.py\", line 1, in <module>\n",
      "    import torch\n",
      "  File \"/home/heigetvu/anaconda3/envs/test-env/lib/python3.10/site-packages/torch/__init__.py\", line 1477, in <module>\n",
      "    from .functional import *  # noqa: F403\n",
      "  File \"/home/heigetvu/anaconda3/envs/test-env/lib/python3.10/site-packages/torch/functional.py\", line 9, in <module>\n",
      "    import torch.nn.functional as F\n",
      "  File \"/home/heigetvu/anaconda3/envs/test-env/lib/python3.10/site-packages/torch/nn/__init__.py\", line 1, in <module>\n",
      "    from .modules import *  # noqa: F403\n",
      "  File \"/home/heigetvu/anaconda3/envs/test-env/lib/python3.10/site-packages/torch/nn/modules/__init__.py\", line 35, in <module>\n",
      "    from .transformer import TransformerEncoder, TransformerDecoder, \\\n",
      "  File \"/home/heigetvu/anaconda3/envs/test-env/lib/python3.10/site-packages/torch/nn/modules/transformer.py\", line 20, in <module>\n",
      "    device: torch.device = torch.device(torch._C._get_default_device()),  # torch.device('cpu'),\n",
      "/home/heigetvu/anaconda3/envs/test-env/lib/python3.10/site-packages/torch/nn/modules/transformer.py:20: UserWarning: Failed to initialize NumPy: _ARRAY_API not found (Triggered internally at ../torch/csrc/utils/tensor_numpy.cpp:84.)\n",
      "  device: torch.device = torch.device(torch._C._get_default_device()),  # torch.device('cpu'),\n"
     ]
    },
    {
     "data": {
      "text/plain": [
       "<torch._C.Generator at 0x7fb1257f4830>"
      ]
     },
     "execution_count": 1,
     "metadata": {},
     "output_type": "execute_result"
    }
   ],
   "source": [
    "import torch\n",
    "import torch.nn as nn\n",
    "import torch.nn.functional as F\n",
    "\n",
    "torch.manual_seed(42)"
   ]
  },
  {
   "cell_type": "code",
   "execution_count": 2,
   "id": "61b70f26",
   "metadata": {},
   "outputs": [
    {
     "data": {
      "text/plain": [
       "tensor([[[0., 1., 0.],\n",
       "         [0., 0., 1.],\n",
       "         [0., 0., 0.]]])"
      ]
     },
     "execution_count": 2,
     "metadata": {},
     "output_type": "execute_result"
    }
   ],
   "source": [
    "batch_size = 1\n",
    "seq_len = 3\n",
    "embedding_dim = 3\n",
    "\n",
    "input = torch.randint(high=2, size=(batch_size, seq_len, embedding_dim), dtype=torch.float32)\n",
    "input"
   ]
  },
  {
   "cell_type": "code",
   "execution_count": 3,
   "id": "191f0a50",
   "metadata": {},
   "outputs": [
    {
     "data": {
      "text/plain": [
       "(torch.Size([2, 3]),\n",
       " torch.Size([2, 2]),\n",
       " Parameter containing:\n",
       " tensor([ 0.1802, -0.3258], requires_grad=True),\n",
       " Parameter containing:\n",
       " tensor([-0.0829, -0.2872], requires_grad=True))"
      ]
     },
     "execution_count": 3,
     "metadata": {},
     "output_type": "execute_result"
    }
   ],
   "source": [
    "embedding_dim = 3\n",
    "hidden_size = 2\n",
    "activation = 'relu'\n",
    "rnn_layer = nn.RNN(input_size=embedding_dim, hidden_size=hidden_size, nonlinearity=activation, batch_first=True)\n",
    "# Whh = (2x2), Wxh = (2x3), bxh = (1x2), bhh = (1x2)\n",
    "rnn_layer.weight_ih_l0.shape, rnn_layer.weight_hh_l0.shape, rnn_layer.bias_ih_l0, rnn_layer.bias_hh_l0"
   ]
  },
  {
   "cell_type": "code",
   "execution_count": 4,
   "id": "c69113d9",
   "metadata": {},
   "outputs": [
    {
     "data": {
      "text/plain": [
       "[[Parameter containing:\n",
       "  tensor([[-0.5188,  0.6146,  0.1323],\n",
       "          [ 0.5224,  0.0958,  0.3410]], requires_grad=True),\n",
       "  Parameter containing:\n",
       "  tensor([[-0.0998,  0.5451],\n",
       "          [ 0.1045, -0.3301]], requires_grad=True),\n",
       "  Parameter containing:\n",
       "  tensor([ 0.1802, -0.3258], requires_grad=True),\n",
       "  Parameter containing:\n",
       "  tensor([-0.0829, -0.2872], requires_grad=True)]]"
      ]
     },
     "execution_count": 4,
     "metadata": {},
     "output_type": "execute_result"
    }
   ],
   "source": [
    "rnn_layer.all_weights"
   ]
  },
  {
   "cell_type": "markdown",
   "id": "1698c074",
   "metadata": {},
   "source": [
    "TEST 1"
   ]
  },
  {
   "cell_type": "code",
   "execution_count": 5,
   "id": "477a99f4",
   "metadata": {},
   "outputs": [
    {
     "data": {
      "text/plain": [
       "tensor([[[0.7119, 0.0000],\n",
       "         [0.1586, 0.0000],\n",
       "         [0.0815, 0.0000]]], grad_fn=<TransposeBackward1>)"
      ]
     },
     "execution_count": 5,
     "metadata": {},
     "output_type": "execute_result"
    }
   ],
   "source": [
    "h0 = torch.zeros(1, batch_size, hidden_size)  # Shape: (1, batch_size, hidden_size)\n",
    "\n",
    "# Pass the input and properly shaped h0 to the RNN layer\n",
    "output, hidden = rnn_layer(input, h0)\n",
    "output"
   ]
  },
  {
   "cell_type": "markdown",
   "id": "b7af82f6",
   "metadata": {},
   "source": [
    "TEST 2"
   ]
  },
  {
   "cell_type": "code",
   "execution_count": 6,
   "id": "84be8dcf",
   "metadata": {},
   "outputs": [],
   "source": [
    "h0 = torch.randint(\n",
    "    high=2,\n",
    "    size=(1, batch_size, hidden_size),\n",
    "    dtype=torch.float32\n",
    ")"
   ]
  },
  {
   "cell_type": "code",
   "execution_count": 7,
   "id": "11cdb1d3",
   "metadata": {},
   "outputs": [
    {
     "data": {
      "text/plain": [
       "tensor([[[1., 1.]]])"
      ]
     },
     "execution_count": 7,
     "metadata": {},
     "output_type": "execute_result"
    }
   ],
   "source": [
    "h0"
   ]
  },
  {
   "cell_type": "code",
   "execution_count": 8,
   "id": "627412d0",
   "metadata": {},
   "outputs": [
    {
     "data": {
      "text/plain": [
       "tensor([[[1.1572, 0.0000],\n",
       "         [0.1141, 0.0000],\n",
       "         [0.0859, 0.0000]]], grad_fn=<TransposeBackward1>)"
      ]
     },
     "execution_count": 8,
     "metadata": {},
     "output_type": "execute_result"
    }
   ],
   "source": [
    "output, hn = rnn_layer(input, h0)\n",
    "output"
   ]
  },
  {
   "cell_type": "code",
   "execution_count": 9,
   "id": "d13ef403",
   "metadata": {},
   "outputs": [
    {
     "data": {
      "text/plain": [
       "tensor([[[0.0859, 0.0000]]], grad_fn=<StackBackward0>)"
      ]
     },
     "execution_count": 9,
     "metadata": {},
     "output_type": "execute_result"
    }
   ],
   "source": [
    "hn"
   ]
  },
  {
   "cell_type": "markdown",
   "id": "89ca93ed",
   "metadata": {},
   "source": [
    "TEST 3"
   ]
  },
  {
   "cell_type": "code",
   "execution_count": 10,
   "id": "b81df245",
   "metadata": {},
   "outputs": [
    {
     "name": "stdout",
     "output_type": "stream",
     "text": [
      "Requirement already satisfied: torchtext==0.17.2 in /home/heigetvu/anaconda3/envs/test-env/lib/python3.10/site-packages (0.17.2)\n",
      "Requirement already satisfied: tqdm in /home/heigetvu/anaconda3/envs/test-env/lib/python3.10/site-packages (from torchtext==0.17.2) (4.67.1)\n",
      "Requirement already satisfied: requests in /home/heigetvu/anaconda3/envs/test-env/lib/python3.10/site-packages (from torchtext==0.17.2) (2.32.3)\n",
      "Requirement already satisfied: torch==2.2.2 in /home/heigetvu/anaconda3/envs/test-env/lib/python3.10/site-packages (from torchtext==0.17.2) (2.2.2)\n",
      "Requirement already satisfied: numpy in /home/heigetvu/anaconda3/envs/test-env/lib/python3.10/site-packages (from torchtext==0.17.2) (2.2.5)\n",
      "Requirement already satisfied: filelock in /home/heigetvu/anaconda3/envs/test-env/lib/python3.10/site-packages (from torch==2.2.2->torchtext==0.17.2) (3.18.0)\n",
      "Requirement already satisfied: typing-extensions>=4.8.0 in /home/heigetvu/anaconda3/envs/test-env/lib/python3.10/site-packages (from torch==2.2.2->torchtext==0.17.2) (4.13.2)\n",
      "Requirement already satisfied: sympy in /home/heigetvu/anaconda3/envs/test-env/lib/python3.10/site-packages (from torch==2.2.2->torchtext==0.17.2) (1.14.0)\n",
      "Requirement already satisfied: networkx in /home/heigetvu/anaconda3/envs/test-env/lib/python3.10/site-packages (from torch==2.2.2->torchtext==0.17.2) (3.4.2)\n",
      "Requirement already satisfied: jinja2 in /home/heigetvu/anaconda3/envs/test-env/lib/python3.10/site-packages (from torch==2.2.2->torchtext==0.17.2) (3.1.6)\n",
      "Requirement already satisfied: fsspec in /home/heigetvu/anaconda3/envs/test-env/lib/python3.10/site-packages (from torch==2.2.2->torchtext==0.17.2) (2025.3.2)\n",
      "Requirement already satisfied: nvidia-cuda-nvrtc-cu12==12.1.105 in /home/heigetvu/anaconda3/envs/test-env/lib/python3.10/site-packages (from torch==2.2.2->torchtext==0.17.2) (12.1.105)\n",
      "Requirement already satisfied: nvidia-cuda-runtime-cu12==12.1.105 in /home/heigetvu/anaconda3/envs/test-env/lib/python3.10/site-packages (from torch==2.2.2->torchtext==0.17.2) (12.1.105)\n",
      "Requirement already satisfied: nvidia-cuda-cupti-cu12==12.1.105 in /home/heigetvu/anaconda3/envs/test-env/lib/python3.10/site-packages (from torch==2.2.2->torchtext==0.17.2) (12.1.105)\n",
      "Requirement already satisfied: nvidia-cudnn-cu12==8.9.2.26 in /home/heigetvu/anaconda3/envs/test-env/lib/python3.10/site-packages (from torch==2.2.2->torchtext==0.17.2) (8.9.2.26)\n",
      "Requirement already satisfied: nvidia-cublas-cu12==12.1.3.1 in /home/heigetvu/anaconda3/envs/test-env/lib/python3.10/site-packages (from torch==2.2.2->torchtext==0.17.2) (12.1.3.1)\n",
      "Requirement already satisfied: nvidia-cufft-cu12==11.0.2.54 in /home/heigetvu/anaconda3/envs/test-env/lib/python3.10/site-packages (from torch==2.2.2->torchtext==0.17.2) (11.0.2.54)\n",
      "Requirement already satisfied: nvidia-curand-cu12==10.3.2.106 in /home/heigetvu/anaconda3/envs/test-env/lib/python3.10/site-packages (from torch==2.2.2->torchtext==0.17.2) (10.3.2.106)\n",
      "Requirement already satisfied: nvidia-cusolver-cu12==11.4.5.107 in /home/heigetvu/anaconda3/envs/test-env/lib/python3.10/site-packages (from torch==2.2.2->torchtext==0.17.2) (11.4.5.107)\n",
      "Requirement already satisfied: nvidia-cusparse-cu12==12.1.0.106 in /home/heigetvu/anaconda3/envs/test-env/lib/python3.10/site-packages (from torch==2.2.2->torchtext==0.17.2) (12.1.0.106)\n",
      "Requirement already satisfied: nvidia-nccl-cu12==2.19.3 in /home/heigetvu/anaconda3/envs/test-env/lib/python3.10/site-packages (from torch==2.2.2->torchtext==0.17.2) (2.19.3)\n",
      "Requirement already satisfied: nvidia-nvtx-cu12==12.1.105 in /home/heigetvu/anaconda3/envs/test-env/lib/python3.10/site-packages (from torch==2.2.2->torchtext==0.17.2) (12.1.105)\n",
      "Requirement already satisfied: triton==2.2.0 in /home/heigetvu/anaconda3/envs/test-env/lib/python3.10/site-packages (from torch==2.2.2->torchtext==0.17.2) (2.2.0)\n",
      "Requirement already satisfied: nvidia-nvjitlink-cu12 in /home/heigetvu/anaconda3/envs/test-env/lib/python3.10/site-packages (from nvidia-cusolver-cu12==11.4.5.107->torch==2.2.2->torchtext==0.17.2) (12.6.85)\n",
      "Requirement already satisfied: MarkupSafe>=2.0 in /home/heigetvu/anaconda3/envs/test-env/lib/python3.10/site-packages (from jinja2->torch==2.2.2->torchtext==0.17.2) (3.0.2)\n",
      "Requirement already satisfied: charset-normalizer<4,>=2 in /home/heigetvu/anaconda3/envs/test-env/lib/python3.10/site-packages (from requests->torchtext==0.17.2) (3.4.2)\n",
      "Requirement already satisfied: idna<4,>=2.5 in /home/heigetvu/anaconda3/envs/test-env/lib/python3.10/site-packages (from requests->torchtext==0.17.2) (3.10)\n",
      "Requirement already satisfied: urllib3<3,>=1.21.1 in /home/heigetvu/anaconda3/envs/test-env/lib/python3.10/site-packages (from requests->torchtext==0.17.2) (2.4.0)\n",
      "Requirement already satisfied: certifi>=2017.4.17 in /home/heigetvu/anaconda3/envs/test-env/lib/python3.10/site-packages (from requests->torchtext==0.17.2) (2025.4.26)\n",
      "Requirement already satisfied: mpmath<1.4,>=1.1.0 in /home/heigetvu/anaconda3/envs/test-env/lib/python3.10/site-packages (from sympy->torch==2.2.2->torchtext==0.17.2) (1.3.0)\n"
     ]
    }
   ],
   "source": [
    "!pip install torchtext==0.17.2"
   ]
  },
  {
   "cell_type": "code",
   "execution_count": 11,
   "id": "b9fc35c0",
   "metadata": {},
   "outputs": [],
   "source": [
    "import torch\n",
    "from torchtext.data.utils import get_tokenizer\n",
    "from torchtext.vocab import build_vocab_from_iterator"
   ]
  },
  {
   "cell_type": "code",
   "execution_count": 12,
   "id": "8f651704",
   "metadata": {},
   "outputs": [],
   "source": [
    "data = [\"dog bites man\", \"man bites man\", \"dog eats meat\", \"man eats food\"]\n",
    "\n",
    "# max vocab size\n",
    "vocab_size = 7\n",
    "\n",
    "# Define tokenizer func\n",
    "tokenizer = get_tokenizer(\"basic_english\")\n",
    "\n",
    "# Create a function to yield list of tokens\n",
    "def yield_tokens(examples):\n",
    "    for text in examples:\n",
    "        yield tokenizer(text)"
   ]
  },
  {
   "cell_type": "code",
   "execution_count": 13,
   "id": "1ab51bb3",
   "metadata": {},
   "outputs": [
    {
     "data": {
      "text/plain": [
       "{'food': 5, 'eats': 4, 'dog': 3, 'bites': 2, 'meat': 6, 'man': 1, '<unk>': 0}"
      ]
     },
     "execution_count": 13,
     "metadata": {},
     "output_type": "execute_result"
    }
   ],
   "source": [
    "# Create vocab\n",
    "vocab = build_vocab_from_iterator(\n",
    "    yield_tokens(data),\n",
    "    max_tokens=vocab_size,\n",
    "    specials=[\"<unk>\"]\n",
    ")\n",
    "\n",
    "vocab.set_default_index(vocab[\"<unk>\"])\n",
    "vocab.get_stoi()"
   ]
  },
  {
   "cell_type": "code",
   "execution_count": 14,
   "id": "9ae8c28c",
   "metadata": {},
   "outputs": [
    {
     "data": {
      "text/plain": [
       "tensor([3, 2, 1])"
      ]
     },
     "execution_count": 14,
     "metadata": {},
     "output_type": "execute_result"
    }
   ],
   "source": [
    "# Create input\n",
    "input = torch.tensor(vocab(tokenizer(\"dog bites man\")))\n",
    "input"
   ]
  },
  {
   "cell_type": "code",
   "execution_count": 15,
   "id": "403aad1f",
   "metadata": {},
   "outputs": [],
   "source": [
    "input = input.unsqueeze(0)"
   ]
  },
  {
   "cell_type": "code",
   "execution_count": 16,
   "id": "cb68f768",
   "metadata": {},
   "outputs": [
    {
     "data": {
      "text/plain": [
       "tensor([[3, 2, 1]])"
      ]
     },
     "execution_count": 16,
     "metadata": {},
     "output_type": "execute_result"
    }
   ],
   "source": [
    "input"
   ]
  },
  {
   "cell_type": "code",
   "execution_count": 17,
   "id": "c384dd19",
   "metadata": {},
   "outputs": [],
   "source": [
    "embedding = nn.Embedding(\n",
    "    num_embeddings=vocab_size,\n",
    "    embedding_dim=10\n",
    ")"
   ]
  },
  {
   "cell_type": "code",
   "execution_count": 18,
   "id": "6a761698",
   "metadata": {},
   "outputs": [
    {
     "data": {
      "text/plain": [
       "Parameter containing:\n",
       "tensor([[-6.8662e-01, -4.9336e-01,  2.4149e-01, -1.1109e+00,  9.1546e-02,\n",
       "         -2.3169e+00, -2.1680e-01, -1.3847e+00, -3.9571e-01,  8.0341e-01],\n",
       "        [-6.2160e-01, -5.9200e-01, -6.3074e-02, -8.2855e-01,  3.3090e-01,\n",
       "         -1.5576e+00,  3.2110e-01,  1.5736e+00, -8.4547e-01,  1.3123e+00],\n",
       "        [ 6.8716e-01, -1.0892e+00, -3.5529e-01, -9.1382e-01,  8.9627e-01,\n",
       "          4.9905e-02,  2.2667e+00,  1.1790e+00, -4.3445e-01, -1.3864e+00],\n",
       "        [-1.2862e+00, -1.4032e+00, -9.2239e-01,  1.8113e+00,  1.6056e-01,\n",
       "          3.6725e-01,  1.7541e-01,  1.3852e+00, -4.4585e-01,  1.4451e+00],\n",
       "        [ 7.0781e-01, -1.0759e+00,  5.3565e-01,  1.1754e+00,  5.6117e-01,\n",
       "         -4.5275e-01, -7.7178e-01, -1.7219e-01,  2.3105e-01,  8.6540e-03],\n",
       "        [-1.4229e-01,  1.9707e-01, -1.1441e+00,  3.3832e-01,  4.7466e-01,\n",
       "         -2.5095e+00,  4.8800e-01,  7.8459e-01,  2.8647e-02,  6.4076e-01],\n",
       "        [ 5.8325e-01,  1.0669e+00,  5.5263e-01, -1.8527e-01,  7.5276e-01,\n",
       "          4.0476e-01,  1.7847e-01,  2.6491e-01,  1.2732e+00, -1.3109e-03]],\n",
       "       requires_grad=True)"
      ]
     },
     "execution_count": 18,
     "metadata": {},
     "output_type": "execute_result"
    }
   ],
   "source": [
    "embedding.weight"
   ]
  },
  {
   "cell_type": "code",
   "execution_count": 19,
   "id": "633facbd",
   "metadata": {},
   "outputs": [
    {
     "data": {
      "text/plain": [
       "tensor([[[-1.2862, -1.4032, -0.9224,  1.8113,  0.1606,  0.3672,  0.1754,\n",
       "           1.3852, -0.4459,  1.4451],\n",
       "         [ 0.6872, -1.0892, -0.3553, -0.9138,  0.8963,  0.0499,  2.2667,\n",
       "           1.1790, -0.4345, -1.3864],\n",
       "         [-0.6216, -0.5920, -0.0631, -0.8286,  0.3309, -1.5576,  0.3211,\n",
       "           1.5736, -0.8455,  1.3123]]], grad_fn=<EmbeddingBackward0>)"
      ]
     },
     "execution_count": 19,
     "metadata": {},
     "output_type": "execute_result"
    }
   ],
   "source": [
    "embedded_input = embedding(input)\n",
    "embedded_input"
   ]
  },
  {
   "cell_type": "code",
   "execution_count": 20,
   "id": "23bb8d9b",
   "metadata": {},
   "outputs": [],
   "source": [
    "embedding_dim = 10\n",
    "hidden_size = 5\n",
    "activation = \"relu\"\n",
    "\n",
    "rnn_layer = nn.RNN(\n",
    "    input_size=embedding_dim,\n",
    "    hidden_size=hidden_size,\n",
    "    nonlinearity=activation,\n",
    "    batch_first=True\n",
    ")"
   ]
  },
  {
   "cell_type": "code",
   "execution_count": 21,
   "id": "0246c58b",
   "metadata": {},
   "outputs": [],
   "source": [
    "output, hn = rnn_layer(embedded_input)"
   ]
  },
  {
   "cell_type": "code",
   "execution_count": 22,
   "id": "4c8c0dd9",
   "metadata": {},
   "outputs": [
    {
     "data": {
      "text/plain": [
       "torch.Size([1, 3, 5])"
      ]
     },
     "execution_count": 22,
     "metadata": {},
     "output_type": "execute_result"
    }
   ],
   "source": [
    "output.shape"
   ]
  },
  {
   "cell_type": "code",
   "execution_count": 23,
   "id": "12e63645",
   "metadata": {},
   "outputs": [
    {
     "data": {
      "text/plain": [
       "torch.Size([1, 5])"
      ]
     },
     "execution_count": 23,
     "metadata": {},
     "output_type": "execute_result"
    }
   ],
   "source": [
    "output[:, -1].shape"
   ]
  },
  {
   "cell_type": "code",
   "execution_count": 24,
   "id": "16f3705b",
   "metadata": {},
   "outputs": [
    {
     "data": {
      "text/plain": [
       "torch.Size([1, 1, 5])"
      ]
     },
     "execution_count": 24,
     "metadata": {},
     "output_type": "execute_result"
    }
   ],
   "source": [
    "hn.shape"
   ]
  },
  {
   "cell_type": "markdown",
   "id": "eb4a7f69",
   "metadata": {},
   "source": [
    "TEXT CLASSIFICATION"
   ]
  },
  {
   "cell_type": "code",
   "execution_count": 25,
   "id": "e24d3720",
   "metadata": {},
   "outputs": [],
   "source": [
    "import os\n",
    "import pandas as pd\n",
    "\n",
    "def load_data_from_path(folder_path):\n",
    "    examples = []\n",
    "    for label in os.listdir(folder_path):\n",
    "        full_path = os.path.join(folder_path, label)\n",
    "        for file_name in os.listdir(full_path):\n",
    "            file_path = os.path.join(full_path, file_name)\n",
    "            with open(file_path, \"r\", encoding=\"utf-8\") as f:\n",
    "                lines = f.readlines()\n",
    "            sentence = \" \".join(lines)\n",
    "            if label == \"neg\":\n",
    "                label = 0\n",
    "            if label == \"pos\":\n",
    "                label = 1\n",
    "            data = {\n",
    "                'sentence': sentence,\n",
    "                'label': label\n",
    "            }\n",
    "            examples.append(data)\n",
    "    return pd.DataFrame(examples)"
   ]
  },
  {
   "cell_type": "code",
   "execution_count": 26,
   "id": "1b28fe7c",
   "metadata": {},
   "outputs": [],
   "source": [
    "folder_paths = {\n",
    "    'train': './data/data_train/train',\n",
    "    'valid': './data/data_train/test',\n",
    "    'test': './data/data_test/test'\n",
    "}\n",
    "\n",
    "train_df = load_data_from_path(folder_paths['train'])\n",
    "valid_df = load_data_from_path(folder_paths['valid'])\n",
    "test_df = load_data_from_path(folder_paths['test'])"
   ]
  },
  {
   "cell_type": "markdown",
   "id": "75174925",
   "metadata": {},
   "source": [
    "PREPROCESSING"
   ]
  },
  {
   "cell_type": "code",
   "execution_count": 27,
   "id": "aa57a9a8",
   "metadata": {},
   "outputs": [
    {
     "name": "stdout",
     "output_type": "stream",
     "text": [
      "Collecting langid\n",
      "  Downloading langid-1.1.6.tar.gz (1.9 MB)\n",
      "\u001b[2K     \u001b[90m━━━━━━━━━━━━━━━━━━━━━━━━━━━━━━━━━━━━━━━━\u001b[0m \u001b[32m1.9/1.9 MB\u001b[0m \u001b[31m17.5 MB/s\u001b[0m eta \u001b[36m0:00:00\u001b[0m\n",
      "\u001b[?25h  Preparing metadata (setup.py) ... \u001b[?25ldone\n",
      "\u001b[?25hRequirement already satisfied: numpy in /home/heigetvu/anaconda3/envs/test-env/lib/python3.10/site-packages (from langid) (2.2.5)\n",
      "Building wheels for collected packages: langid\n",
      "\u001b[33m  DEPRECATION: Building 'langid' using the legacy setup.py bdist_wheel mechanism, which will be removed in a future version. pip 25.3 will enforce this behaviour change. A possible replacement is to use the standardized build interface by setting the `--use-pep517` option, (possibly combined with `--no-build-isolation`), or adding a `pyproject.toml` file to the source tree of 'langid'. Discussion can be found at https://github.com/pypa/pip/issues/6334\u001b[0m\u001b[33m\n",
      "\u001b[0m  Building wheel for langid (setup.py) ... \u001b[?25ldone\n",
      "\u001b[?25h  Created wheel for langid: filename=langid-1.1.6-py3-none-any.whl size=1941216 sha256=accc57aabb0f5b2b507917de4c19e65c613447401ddd46487d68b40edb22a1d3\n",
      "  Stored in directory: /home/heigetvu/.cache/pip/wheels/23/c8/c6/eed80894918490a175677414d40bd7c851413bbe03d4856c3c\n",
      "Successfully built langid\n",
      "Installing collected packages: langid\n",
      "Successfully installed langid-1.1.6\n"
     ]
    }
   ],
   "source": [
    "!pip install langid"
   ]
  },
  {
   "cell_type": "code",
   "execution_count": 28,
   "id": "280cdfdc",
   "metadata": {},
   "outputs": [],
   "source": [
    "from langid.langid import LanguageIdentifier, model\n",
    "\n",
    "def identify_vn(df):\n",
    "    identifier = LanguageIdentifier.from_modelstring(model, norm_probs=True)\n",
    "    not_vi_idx = set()\n",
    "    THRESHOLD = 0.9\n",
    "    for idx, row in df.iterrows():\n",
    "        score = identifier.classify(row[\"sentence\"])\n",
    "        if score[0] != \"vi\" or (score[0] == \"vi\" and score[1] <= THRESHOLD):\n",
    "            not_vi_idx.add(idx)\n",
    "    vi_df = df[~df.index.isin(not_vi_idx)]\n",
    "    not_vi_df = df[df.index.isin(not_vi_idx)]\n",
    "    return vi_df, not_vi_df"
   ]
  },
  {
   "cell_type": "code",
   "execution_count": 29,
   "id": "fbb637df",
   "metadata": {},
   "outputs": [],
   "source": [
    "train_df_vi, train_df_other = identify_vn(train_df)"
   ]
  },
  {
   "cell_type": "code",
   "execution_count": 30,
   "id": "846b8c43",
   "metadata": {},
   "outputs": [],
   "source": [
    "import re\n",
    "import string\n",
    "\n",
    "def preprocess_text(text):\n",
    "    # remove URLs https://www.\n",
    "    url_pattern = re.compile(r'https?://\\s+\\wwww\\.\\s+')\n",
    "    text = url_pattern.sub(r\" \", text)\n",
    "\n",
    "    # remove HTML Tags: <>\n",
    "    html_pattern = re.compile(r'<[^<>]+>')\n",
    "    text = html_pattern.sub(\" \", text)\n",
    "\n",
    "    # remove puncs and digits\n",
    "    replace_chars = list(string.punctuation + string.digits)\n",
    "    for char in replace_chars:\n",
    "        text = text.replace(char, \" \")\n",
    "\n",
    "    # remove emoji\n",
    "    emoji_pattern = re.compile(\"[\"\n",
    "        u\"\\U0001F600-\\U0001F64F\"  # emoticons\n",
    "        u\"\\U0001F300-\\U0001F5FF\"  # symbols & pictographs\n",
    "        u\"\\U0001F680-\\U0001F6FF\"  # transport & map symbols\n",
    "        u\"\\U0001F1E0-\\U0001F1FF\"  # flags (iOS)\n",
    "        u\"\\U0001F1F2-\\U0001F1F4\"  # Macau flag\n",
    "        u\"\\U0001F1E6-\\U0001F1FF\"  # flags\n",
    "        u\"\\U0001F600-\\U0001F64F\"\n",
    "        u\"\\U00002702-\\U000027B0\"\n",
    "        u\"\\U000024C2-\\U0001F251\"\n",
    "        u\"\\U0001f926-\\U0001f937\"\n",
    "        u\"\\U0001F1F2\"\n",
    "        u\"\\U0001F1F4\"\n",
    "        u\"\\U0001F620\"\n",
    "        u\"\\u200d\"\n",
    "        u\"\\u2640-\\u2642\"\n",
    "        \"]+\", flags=re.UNICODE)\n",
    "    text = emoji_pattern.sub(r\" \", text)\n",
    "\n",
    "    # normalize whitespace\n",
    "    text = \" \".join(text.split())\n",
    "\n",
    "    # lowercasing\n",
    "    text = text.lower()\n",
    "    return text"
   ]
  },
  {
   "cell_type": "code",
   "execution_count": 31,
   "id": "d2596e56",
   "metadata": {},
   "outputs": [
    {
     "name": "stderr",
     "output_type": "stream",
     "text": [
      "/tmp/ipykernel_25751/1058621333.py:1: SettingWithCopyWarning: \n",
      "A value is trying to be set on a copy of a slice from a DataFrame.\n",
      "Try using .loc[row_indexer,col_indexer] = value instead\n",
      "\n",
      "See the caveats in the documentation: https://pandas.pydata.org/pandas-docs/stable/user_guide/indexing.html#returning-a-view-versus-a-copy\n",
      "  train_df_vi['preprocess_sentence'] = [preprocess_text(row['sentence']) for index, row in train_df_vi.iterrows()]\n"
     ]
    }
   ],
   "source": [
    "train_df_vi['preprocess_sentence'] = [preprocess_text(row['sentence']) for index, row in train_df_vi.iterrows()]\n",
    "valid_df['preprocess_sentence'] = [preprocess_text(row['sentence']) for index, row in valid_df.iterrows()]\n",
    "test_df['preprocess_sentence'] = [preprocess_text(row['sentence']) for index, row in test_df.iterrows()]"
   ]
  },
  {
   "cell_type": "code",
   "execution_count": 32,
   "id": "6aaf6d71",
   "metadata": {},
   "outputs": [],
   "source": [
    "def yield_tokens(sentences, tokenizer):\n",
    "    for sentence in sentences:\n",
    "        yield tokenizer(sentence)"
   ]
  },
  {
   "cell_type": "code",
   "execution_count": 33,
   "id": "66f89b99",
   "metadata": {},
   "outputs": [],
   "source": [
    "# word-based tokenizer\n",
    "from torchtext.data.utils import get_tokenizer\n",
    "\n",
    "tokenizer = get_tokenizer(\"basic_english\")"
   ]
  },
  {
   "cell_type": "code",
   "execution_count": 34,
   "id": "fc8f2b87",
   "metadata": {},
   "outputs": [],
   "source": [
    "# build vocabulary\n",
    "from torchtext.vocab import build_vocab_from_iterator\n",
    "\n",
    "vocab_size = 10000\n",
    "vocabulary = build_vocab_from_iterator(\n",
    "    yield_tokens(train_df_vi['preprocess_sentence'], tokenizer),\n",
    "    max_tokens=vocab_size,\n",
    "    specials=[\"<pad>\", \"<unk>\"]\n",
    ")\n",
    "vocabulary.set_default_index(vocabulary[\"<unk>\"])"
   ]
  },
  {
   "cell_type": "code",
   "execution_count": 35,
   "id": "0bc6b034",
   "metadata": {},
   "outputs": [],
   "source": [
    "from torchtext.data.functional import to_map_style_dataset\n",
    "\n",
    "def prepare_dataset(df):\n",
    "    # create iterator for dataset: (sentence, label)\n",
    "    for index, row in df.iterrows():\n",
    "        sentence = row['preprocess_sentence']\n",
    "        encoded_sentence = vocabulary(tokenizer(sentence))\n",
    "        label = row['label']\n",
    "        yield encoded_sentence, label\n",
    "\n",
    "train_dataset = prepare_dataset(train_df_vi)\n",
    "train_dataset = to_map_style_dataset(train_dataset)\n",
    "\n",
    "valid_dataset = prepare_dataset(valid_df)\n",
    "valid_dataset = to_map_style_dataset(valid_dataset)\n",
    "\n",
    "test_dataset = prepare_dataset(test_df)\n",
    "test_dataset = to_map_style_dataset(test_dataset)"
   ]
  },
  {
   "cell_type": "markdown",
   "id": "1fe77335",
   "metadata": {},
   "source": [
    "DATALOADER"
   ]
  },
  {
   "cell_type": "code",
   "execution_count": 36,
   "id": "856eb58a",
   "metadata": {},
   "outputs": [],
   "source": [
    "import torch\n",
    "\n",
    "seq_length = 50\n",
    "\n",
    "def collate_batch(batch):\n",
    "    # create inputs, offsets, labels for batch\n",
    "    sentences, labels = list(zip(*batch))\n",
    "    encoded_sentences = [\n",
    "        sentence+([0]* (seq_length-len(sentence))) if len(sentence) < seq_length else sentence[:seq_length]\n",
    "        for sentence in sentences\n",
    "    ]\n",
    "\n",
    "    encoded_sentences = torch.tensor(encoded_sentences, dtype=torch.int64)\n",
    "    labels = torch.tensor(labels)\n",
    "\n",
    "    return encoded_sentences, labels"
   ]
  },
  {
   "cell_type": "code",
   "execution_count": 37,
   "id": "40955040",
   "metadata": {},
   "outputs": [],
   "source": [
    "from torch.utils.data import DataLoader\n",
    "\n",
    "batch_size = 128\n",
    "\n",
    "train_dataloader = DataLoader(\n",
    "    train_dataset,\n",
    "    batch_size=batch_size,\n",
    "    shuffle=True,\n",
    "    collate_fn=collate_batch\n",
    ")\n",
    "valid_dataloader = DataLoader(\n",
    "    valid_dataset,\n",
    "    batch_size=batch_size,\n",
    "    shuffle=False,\n",
    "    collate_fn=collate_batch\n",
    ")\n",
    "\n",
    "test_dataloader = DataLoader(\n",
    "    test_dataset,\n",
    "    batch_size=batch_size,\n",
    "    shuffle=False,\n",
    "    collate_fn=collate_batch\n",
    ")"
   ]
  },
  {
   "cell_type": "code",
   "execution_count": 38,
   "id": "cbd1f9bc",
   "metadata": {},
   "outputs": [
    {
     "data": {
      "text/plain": [
       "(tensor([[ 549,   12,  203,  ...,   15,  153,    2],\n",
       "         [  23,  588,  133,  ...,  217,   26,   60],\n",
       "         [ 221,   12,   75,  ...,  339,   15,  221],\n",
       "         ...,\n",
       "         [   7,   43,  306,  ...,   57,    7,  296],\n",
       "         [ 280,   15,  153,  ..., 1857,   37,   98],\n",
       "         [ 126,  181,  167,  ...,  715, 1898,  111]]),\n",
       " tensor([0, 0, 0, 1, 1, 1, 0, 0, 1, 0, 0, 1, 0, 1, 1, 0, 0, 0, 0, 1, 0, 0, 0, 0,\n",
       "         0, 0, 0, 1, 0, 0, 1, 0, 0, 1, 0, 0, 0, 0, 0, 0, 1, 1, 1, 0, 0, 0, 1, 0,\n",
       "         0, 1, 0, 1, 1, 1, 1, 0, 0, 1, 1, 1, 1, 0, 1, 1, 1, 0, 0, 1, 0, 0, 0, 1,\n",
       "         0, 0, 1, 1, 1, 1, 1, 1, 0, 1, 1, 0, 1, 0, 0, 0, 0, 0, 1, 1, 0, 0, 1, 0,\n",
       "         0, 0, 1, 1, 1, 0, 0, 0, 1, 0, 0, 1, 0, 0, 0, 0, 1, 1, 0, 0, 1, 1, 1, 1,\n",
       "         1, 0, 1, 1, 0, 1, 1, 1]))"
      ]
     },
     "execution_count": 38,
     "metadata": {},
     "output_type": "execute_result"
    }
   ],
   "source": [
    "next(iter(train_dataloader))"
   ]
  },
  {
   "cell_type": "code",
   "execution_count": 39,
   "id": "6904e531",
   "metadata": {},
   "outputs": [
    {
     "data": {
      "text/plain": [
       "233"
      ]
     },
     "execution_count": 39,
     "metadata": {},
     "output_type": "execute_result"
    }
   ],
   "source": [
    "len(train_dataloader)"
   ]
  },
  {
   "cell_type": "code",
   "execution_count": 40,
   "id": "69d47ea4",
   "metadata": {},
   "outputs": [],
   "source": [
    "encoded_sentences, labels = next(iter(train_dataloader))"
   ]
  },
  {
   "cell_type": "code",
   "execution_count": 41,
   "id": "67402626",
   "metadata": {},
   "outputs": [
    {
     "data": {
      "text/plain": [
       "torch.Size([128, 50])"
      ]
     },
     "execution_count": 41,
     "metadata": {},
     "output_type": "execute_result"
    }
   ],
   "source": [
    "encoded_sentences.shape"
   ]
  },
  {
   "cell_type": "code",
   "execution_count": 42,
   "id": "2d8e0a9e",
   "metadata": {},
   "outputs": [
    {
     "data": {
      "text/plain": [
       "torch.Size([128])"
      ]
     },
     "execution_count": 42,
     "metadata": {},
     "output_type": "execute_result"
    }
   ],
   "source": [
    "labels.shape"
   ]
  },
  {
   "cell_type": "markdown",
   "id": "5a03af85",
   "metadata": {},
   "source": [
    "UTILS"
   ]
  },
  {
   "cell_type": "code",
   "execution_count": 43,
   "id": "884b2243",
   "metadata": {},
   "outputs": [],
   "source": [
    "import time\n",
    "\n",
    "def train_epoch(model, optimizer, criterion, train_dataloader, device, epoch=0, log_interval=50):\n",
    "    model.train()\n",
    "    total_acc, total_count = 0, 0\n",
    "    losses = []\n",
    "    start_time = time.time()\n",
    "\n",
    "    for idx, (inputs, labels) in enumerate(train_dataloader):\n",
    "        inputs = inputs.to(device)\n",
    "        labels = labels.to(device)\n",
    "\n",
    "        optimizer.zero_grad()\n",
    "\n",
    "        predictions = model(inputs, device)\n",
    "\n",
    "        # compute loss\n",
    "        loss = criterion(predictions, labels)\n",
    "        losses.append(loss.item())\n",
    "\n",
    "        # backward\n",
    "        loss.backward()\n",
    "        optimizer.step()\n",
    "        total_acc += (predictions.argmax(1) == labels).sum().item()\n",
    "        total_count += labels.size(0)\n",
    "        if idx % log_interval == 0 and idx > 0:\n",
    "            elapsed = time.time() - start_time\n",
    "            print(\n",
    "                \"| epoch {:3d} | {:5d}/{:5d} batches \"\n",
    "                \"| accuracy {:8.3f}\".format(\n",
    "                    epoch, idx, len(train_dataloader), total_acc / total_count\n",
    "                )\n",
    "            )\n",
    "            total_acc, total_count = 0, 0\n",
    "            start_time = time.time()\n",
    "\n",
    "    epoch_acc = total_acc / total_count\n",
    "    epoch_loss = sum(losses) / len(losses)\n",
    "    return epoch_acc, epoch_loss\n",
    "\n",
    "def evaluate_epoch(model, criterion, valid_dataloader, device):\n",
    "    model.eval()\n",
    "    total_acc, total_count = 0, 0\n",
    "    losses = []\n",
    "\n",
    "    with torch.no_grad():\n",
    "        for idx, (inputs, labels) in enumerate(valid_dataloader):\n",
    "            inputs = inputs.to(device)\n",
    "            labels = labels.to(device)\n",
    "\n",
    "            predictions = model(inputs, device)\n",
    "\n",
    "            loss = criterion(predictions, labels)\n",
    "            losses.append(loss.item())\n",
    "\n",
    "            total_acc += (predictions.argmax(1) == labels).sum().item()\n",
    "            total_count += labels.size(0)\n",
    "\n",
    "    epoch_acc = total_acc / total_count\n",
    "    epoch_loss = sum(losses) / len(losses)\n",
    "    return epoch_acc, epoch_loss\n",
    "\n",
    "def train(model, model_name, save_model, optimizer, criterion, train_dataloader, valid_dataloader, num_epochs, device):\n",
    "    train_accs, train_losses = [], []\n",
    "    eval_accs, eval_losses = [], []\n",
    "    best_loss_eval = 100\n",
    "    times = []\n",
    "    for epoch in range(1, num_epochs+1):\n",
    "        epoch_start_time = time.time()\n",
    "        # Training\n",
    "        train_acc, train_loss = train_epoch(model, optimizer, criterion, train_dataloader, device, epoch)\n",
    "        train_accs.append(train_acc)\n",
    "        train_losses.append(train_loss)\n",
    "\n",
    "        # Evaluation\n",
    "        eval_acc, eval_loss = evaluate_epoch(model, criterion, valid_dataloader, device)\n",
    "        eval_accs.append(eval_acc)\n",
    "        eval_losses.append(eval_loss)\n",
    "\n",
    "        # Save best model\n",
    "        if eval_loss < best_loss_eval:\n",
    "            torch.save(model.state_dict(), save_model + f'/{model_name}.pt')\n",
    "\n",
    "        times.append(time.time() - epoch_start_time)\n",
    "        # Print loss, acc end epoch\n",
    "        print(\"-\" * 59)\n",
    "        print(\n",
    "            \"| End of epoch {:3d} | Time: {:5.2f}s | Train Accuracy {:8.3f} | Train Loss {:8.3f} \"\n",
    "            \"| Valid Accuracy {:8.3f} | Valid Loss {:8.3f} \".format(\n",
    "                epoch, time.time() - epoch_start_time, train_acc, train_loss, eval_acc, eval_loss\n",
    "            )\n",
    "        )\n",
    "        print(\"-\" * 59)\n",
    "\n",
    "    # Load best model\n",
    "    model.load_state_dict(torch.load(save_model + f'/{model_name}.pt', weights_only=True))\n",
    "    model.eval()\n",
    "    metrics = {\n",
    "        'train_accuracy': train_accs,\n",
    "        'train_loss': train_losses,\n",
    "        'valid_accuracy': eval_accs,\n",
    "        'valid_loss': eval_losses,\n",
    "        'time': times\n",
    "    }\n",
    "    return model, metrics\n",
    "\n",
    "import matplotlib.pyplot as plt\n",
    "\n",
    "def plot_result(num_epochs, train_accs, eval_accs, train_losses, eval_losses):\n",
    "    epochs = list(range(num_epochs))\n",
    "    fig, axs = plt.subplots(nrows = 1, ncols =2 , figsize = (12,6))\n",
    "    axs[0].plot(epochs, train_accs, label = \"Training\")\n",
    "    axs[0].plot(epochs, eval_accs, label = \"Evaluation\")\n",
    "    axs[1].plot(epochs, train_losses, label = \"Training\")\n",
    "    axs[1].plot(epochs, eval_losses, label = \"Evaluation\")\n",
    "    axs[0].set_xlabel(\"Epochs\")\n",
    "    axs[1].set_xlabel(\"Epochs\")\n",
    "    axs[0].set_ylabel(\"Accuracy\")\n",
    "    axs[1].set_ylabel(\"Loss\")\n",
    "    plt.legend()"
   ]
  },
  {
   "cell_type": "markdown",
   "id": "273147b9",
   "metadata": {},
   "source": [
    "MODELING"
   ]
  },
  {
   "cell_type": "code",
   "execution_count": 44,
   "id": "b863aa32",
   "metadata": {},
   "outputs": [],
   "source": [
    "class RNNClassifier(nn.Module):\n",
    "    def __init__(self, vocab_size=10000, embedding_dim=200, hidden_size=150, num_classes=2):\n",
    "        super(RNNClassifier, self).__init__()\n",
    "        self.hidden_size = hidden_size\n",
    "        self.embedding_dim = embedding_dim\n",
    "        self.hidden_size = hidden_size\n",
    "        self.vocab_size = vocab_size\n",
    "        self.embedding_layer = nn.Embedding(\n",
    "            num_embeddings=vocab_size,\n",
    "            embedding_dim=embedding_dim,\n",
    "        )\n",
    "        self.rnn = nn.RNN(\n",
    "            input_size=embedding_dim,\n",
    "            hidden_size=hidden_size,\n",
    "            batch_first=True\n",
    "        )\n",
    "        self.linear = nn.Linear(self.hidden_size, num_classes)\n",
    "\n",
    "    def forward(self, x_batch, device):\n",
    "        embeddings = self.embedding_layer(x_batch)\n",
    "        output, last_hidden = self.rnn(\n",
    "            embeddings, torch.randn(1, len(x_batch), self.hidden_size).to(device)\n",
    "        )\n",
    "        output = self.linear(output[:, -1])\n",
    "\n",
    "        return output"
   ]
  },
  {
   "cell_type": "code",
   "execution_count": 45,
   "id": "3a11456c",
   "metadata": {},
   "outputs": [],
   "source": [
    "model = RNNClassifier(vocab_size=10000, num_classes=2)"
   ]
  },
  {
   "cell_type": "code",
   "execution_count": 46,
   "id": "b7452b5d",
   "metadata": {},
   "outputs": [],
   "source": [
    "device = torch.device('cuda' if torch.cuda.is_available() else 'cpu')\n",
    "model = model.to(device)"
   ]
  },
  {
   "cell_type": "code",
   "execution_count": 47,
   "id": "fd9c72b9",
   "metadata": {},
   "outputs": [
    {
     "data": {
      "text/plain": [
       "torch.Size([128, 2])"
      ]
     },
     "execution_count": 47,
     "metadata": {},
     "output_type": "execute_result"
    }
   ],
   "source": [
    "predictions = model(encoded_sentences.to(device), device)\n",
    "predictions.shape"
   ]
  },
  {
   "cell_type": "markdown",
   "id": "ed2d422d",
   "metadata": {},
   "source": [
    "TRAINING"
   ]
  },
  {
   "cell_type": "code",
   "execution_count": 48,
   "id": "dd353ecf",
   "metadata": {},
   "outputs": [
    {
     "name": "stdout",
     "output_type": "stream",
     "text": [
      "| epoch   1 |    50/  233 batches | accuracy    0.509\n",
      "| epoch   1 |   100/  233 batches | accuracy    0.515\n",
      "| epoch   1 |   150/  233 batches | accuracy    0.522\n",
      "| epoch   1 |   200/  233 batches | accuracy    0.520\n",
      "-----------------------------------------------------------\n",
      "| End of epoch   1 | Time:  0.70s | Train Accuracy    0.533 | Train Loss    0.697 | Valid Accuracy    0.536 | Valid Loss    0.691 \n",
      "-----------------------------------------------------------\n",
      "| epoch   2 |    50/  233 batches | accuracy    0.545\n",
      "| epoch   2 |   100/  233 batches | accuracy    0.550\n",
      "| epoch   2 |   150/  233 batches | accuracy    0.552\n",
      "| epoch   2 |   200/  233 batches | accuracy    0.567\n",
      "-----------------------------------------------------------\n",
      "| End of epoch   2 | Time:  0.62s | Train Accuracy    0.604 | Train Loss    0.676 | Valid Accuracy    0.637 | Valid Loss    0.637 \n",
      "-----------------------------------------------------------\n",
      "| epoch   3 |    50/  233 batches | accuracy    0.710\n",
      "| epoch   3 |   100/  233 batches | accuracy    0.728\n",
      "| epoch   3 |   150/  233 batches | accuracy    0.730\n",
      "| epoch   3 |   200/  233 batches | accuracy    0.736\n",
      "-----------------------------------------------------------\n",
      "| End of epoch   3 | Time:  0.72s | Train Accuracy    0.729 | Train Loss    0.561 | Valid Accuracy    0.733 | Valid Loss    0.560 \n",
      "-----------------------------------------------------------\n",
      "| epoch   4 |    50/  233 batches | accuracy    0.756\n",
      "| epoch   4 |   100/  233 batches | accuracy    0.760\n",
      "| epoch   4 |   150/  233 batches | accuracy    0.747\n",
      "| epoch   4 |   200/  233 batches | accuracy    0.754\n",
      "-----------------------------------------------------------\n",
      "| End of epoch   4 | Time:  0.63s | Train Accuracy    0.748 | Train Loss    0.532 | Valid Accuracy    0.745 | Valid Loss    0.550 \n",
      "-----------------------------------------------------------\n",
      "| epoch   5 |    50/  233 batches | accuracy    0.765\n",
      "| epoch   5 |   100/  233 batches | accuracy    0.746\n",
      "| epoch   5 |   150/  233 batches | accuracy    0.741\n",
      "| epoch   5 |   200/  233 batches | accuracy    0.742\n",
      "-----------------------------------------------------------\n",
      "| End of epoch   5 | Time:  0.62s | Train Accuracy    0.753 | Train Loss    0.540 | Valid Accuracy    0.694 | Valid Loss    0.601 \n",
      "-----------------------------------------------------------\n",
      "| epoch   6 |    50/  233 batches | accuracy    0.754\n",
      "| epoch   6 |   100/  233 batches | accuracy    0.765\n",
      "| epoch   6 |   150/  233 batches | accuracy    0.761\n",
      "| epoch   6 |   200/  233 batches | accuracy    0.770\n",
      "-----------------------------------------------------------\n",
      "| End of epoch   6 | Time:  0.63s | Train Accuracy    0.769 | Train Loss    0.516 | Valid Accuracy    0.753 | Valid Loss    0.535 \n",
      "-----------------------------------------------------------\n",
      "| epoch   7 |    50/  233 batches | accuracy    0.777\n",
      "| epoch   7 |   100/  233 batches | accuracy    0.768\n",
      "| epoch   7 |   150/  233 batches | accuracy    0.772\n",
      "| epoch   7 |   200/  233 batches | accuracy    0.763\n",
      "-----------------------------------------------------------\n",
      "| End of epoch   7 | Time:  0.70s | Train Accuracy    0.784 | Train Loss    0.500 | Valid Accuracy    0.753 | Valid Loss    0.536 \n",
      "-----------------------------------------------------------\n",
      "| epoch   8 |    50/  233 batches | accuracy    0.778\n",
      "| epoch   8 |   100/  233 batches | accuracy    0.766\n",
      "| epoch   8 |   150/  233 batches | accuracy    0.773\n",
      "| epoch   8 |   200/  233 batches | accuracy    0.782\n",
      "-----------------------------------------------------------\n",
      "| End of epoch   8 | Time:  0.66s | Train Accuracy    0.777 | Train Loss    0.500 | Valid Accuracy    0.760 | Valid Loss    0.525 \n",
      "-----------------------------------------------------------\n",
      "| epoch   9 |    50/  233 batches | accuracy    0.784\n",
      "| epoch   9 |   100/  233 batches | accuracy    0.780\n",
      "| epoch   9 |   150/  233 batches | accuracy    0.785\n",
      "| epoch   9 |   200/  233 batches | accuracy    0.787\n",
      "-----------------------------------------------------------\n",
      "| End of epoch   9 | Time:  0.69s | Train Accuracy    0.793 | Train Loss    0.484 | Valid Accuracy    0.765 | Valid Loss    0.520 \n",
      "-----------------------------------------------------------\n",
      "| epoch  10 |    50/  233 batches | accuracy    0.792\n",
      "| epoch  10 |   100/  233 batches | accuracy    0.797\n",
      "| epoch  10 |   150/  233 batches | accuracy    0.785\n",
      "| epoch  10 |   200/  233 batches | accuracy    0.792\n",
      "-----------------------------------------------------------\n",
      "| End of epoch  10 | Time:  0.64s | Train Accuracy    0.799 | Train Loss    0.474 | Valid Accuracy    0.771 | Valid Loss    0.510 \n",
      "-----------------------------------------------------------\n",
      "| epoch  11 |    50/  233 batches | accuracy    0.800\n",
      "| epoch  11 |   100/  233 batches | accuracy    0.775\n",
      "| epoch  11 |   150/  233 batches | accuracy    0.793\n",
      "| epoch  11 |   200/  233 batches | accuracy    0.799\n",
      "-----------------------------------------------------------\n",
      "| End of epoch  11 | Time:  0.67s | Train Accuracy    0.796 | Train Loss    0.476 | Valid Accuracy    0.771 | Valid Loss    0.511 \n",
      "-----------------------------------------------------------\n",
      "| epoch  12 |    50/  233 batches | accuracy    0.782\n",
      "| epoch  12 |   100/  233 batches | accuracy    0.791\n",
      "| epoch  12 |   150/  233 batches | accuracy    0.793\n",
      "| epoch  12 |   200/  233 batches | accuracy    0.798\n",
      "-----------------------------------------------------------\n",
      "| End of epoch  12 | Time:  0.71s | Train Accuracy    0.799 | Train Loss    0.479 | Valid Accuracy    0.768 | Valid Loss    0.507 \n",
      "-----------------------------------------------------------\n",
      "| epoch  13 |    50/  233 batches | accuracy    0.795\n",
      "| epoch  13 |   100/  233 batches | accuracy    0.804\n",
      "| epoch  13 |   150/  233 batches | accuracy    0.803\n",
      "| epoch  13 |   200/  233 batches | accuracy    0.802\n",
      "-----------------------------------------------------------\n",
      "| End of epoch  13 | Time:  0.57s | Train Accuracy    0.797 | Train Loss    0.461 | Valid Accuracy    0.778 | Valid Loss    0.495 \n",
      "-----------------------------------------------------------\n",
      "| epoch  14 |    50/  233 batches | accuracy    0.805\n",
      "| epoch  14 |   100/  233 batches | accuracy    0.804\n",
      "| epoch  14 |   150/  233 batches | accuracy    0.806\n",
      "| epoch  14 |   200/  233 batches | accuracy    0.812\n",
      "-----------------------------------------------------------\n",
      "| End of epoch  14 | Time:  0.55s | Train Accuracy    0.805 | Train Loss    0.451 | Valid Accuracy    0.780 | Valid Loss    0.495 \n",
      "-----------------------------------------------------------\n",
      "| epoch  15 |    50/  233 batches | accuracy    0.782\n",
      "| epoch  15 |   100/  233 batches | accuracy    0.697\n",
      "| epoch  15 |   150/  233 batches | accuracy    0.713\n",
      "| epoch  15 |   200/  233 batches | accuracy    0.730\n",
      "-----------------------------------------------------------\n",
      "| End of epoch  15 | Time:  0.55s | Train Accuracy    0.752 | Train Loss    0.515 | Valid Accuracy    0.728 | Valid Loss    0.535 \n",
      "-----------------------------------------------------------\n",
      "| epoch  16 |    50/  233 batches | accuracy    0.782\n",
      "| epoch  16 |   100/  233 batches | accuracy    0.816\n",
      "| epoch  16 |   150/  233 batches | accuracy    0.809\n",
      "| epoch  16 |   200/  233 batches | accuracy    0.817\n",
      "-----------------------------------------------------------\n",
      "| End of epoch  16 | Time:  0.54s | Train Accuracy    0.808 | Train Loss    0.453 | Valid Accuracy    0.782 | Valid Loss    0.487 \n",
      "-----------------------------------------------------------\n",
      "| epoch  17 |    50/  233 batches | accuracy    0.815\n",
      "| epoch  17 |   100/  233 batches | accuracy    0.813\n",
      "| epoch  17 |   150/  233 batches | accuracy    0.747\n",
      "| epoch  17 |   200/  233 batches | accuracy    0.715\n",
      "-----------------------------------------------------------\n",
      "| End of epoch  17 | Time:  0.54s | Train Accuracy    0.705 | Train Loss    0.489 | Valid Accuracy    0.698 | Valid Loss    0.559 \n",
      "-----------------------------------------------------------\n",
      "| epoch  18 |    50/  233 batches | accuracy    0.727\n",
      "| epoch  18 |   100/  233 batches | accuracy    0.733\n",
      "| epoch  18 |   150/  233 batches | accuracy    0.719\n",
      "| epoch  18 |   200/  233 batches | accuracy    0.726\n",
      "-----------------------------------------------------------\n",
      "| End of epoch  18 | Time:  0.63s | Train Accuracy    0.717 | Train Loss    0.514 | Valid Accuracy    0.708 | Valid Loss    0.548 \n",
      "-----------------------------------------------------------\n",
      "| epoch  19 |    50/  233 batches | accuracy    0.732\n",
      "| epoch  19 |   100/  233 batches | accuracy    0.736\n",
      "| epoch  19 |   150/  233 batches | accuracy    0.733\n",
      "| epoch  19 |   200/  233 batches | accuracy    0.731\n",
      "-----------------------------------------------------------\n",
      "| End of epoch  19 | Time:  0.64s | Train Accuracy    0.738 | Train Loss    0.502 | Valid Accuracy    0.711 | Valid Loss    0.542 \n",
      "-----------------------------------------------------------\n",
      "| epoch  20 |    50/  233 batches | accuracy    0.741\n",
      "| epoch  20 |   100/  233 batches | accuracy    0.741\n",
      "| epoch  20 |   150/  233 batches | accuracy    0.738\n",
      "| epoch  20 |   200/  233 batches | accuracy    0.735\n",
      "-----------------------------------------------------------\n",
      "| End of epoch  20 | Time:  0.65s | Train Accuracy    0.739 | Train Loss    0.494 | Valid Accuracy    0.717 | Valid Loss    0.536 \n",
      "-----------------------------------------------------------\n",
      "| epoch  21 |    50/  233 batches | accuracy    0.749\n",
      "| epoch  21 |   100/  233 batches | accuracy    0.748\n",
      "| epoch  21 |   150/  233 batches | accuracy    0.749\n",
      "| epoch  21 |   200/  233 batches | accuracy    0.748\n",
      "-----------------------------------------------------------\n",
      "| End of epoch  21 | Time:  0.67s | Train Accuracy    0.745 | Train Loss    0.484 | Valid Accuracy    0.709 | Valid Loss    0.529 \n",
      "-----------------------------------------------------------\n",
      "| epoch  22 |    50/  233 batches | accuracy    0.751\n",
      "| epoch  22 |   100/  233 batches | accuracy    0.754\n",
      "| epoch  22 |   150/  233 batches | accuracy    0.761\n",
      "| epoch  22 |   200/  233 batches | accuracy    0.764\n",
      "-----------------------------------------------------------\n",
      "| End of epoch  22 | Time:  0.64s | Train Accuracy    0.793 | Train Loss    0.470 | Valid Accuracy    0.778 | Valid Loss    0.487 \n",
      "-----------------------------------------------------------\n",
      "| epoch  23 |    50/  233 batches | accuracy    0.827\n",
      "| epoch  23 |   100/  233 batches | accuracy    0.819\n",
      "| epoch  23 |   150/  233 batches | accuracy    0.815\n",
      "| epoch  23 |   200/  233 batches | accuracy    0.818\n",
      "-----------------------------------------------------------\n",
      "| End of epoch  23 | Time:  0.59s | Train Accuracy    0.823 | Train Loss    0.429 | Valid Accuracy    0.792 | Valid Loss    0.481 \n",
      "-----------------------------------------------------------\n",
      "| epoch  24 |    50/  233 batches | accuracy    0.818\n",
      "| epoch  24 |   100/  233 batches | accuracy    0.823\n",
      "| epoch  24 |   150/  233 batches | accuracy    0.830\n",
      "| epoch  24 |   200/  233 batches | accuracy    0.819\n",
      "-----------------------------------------------------------\n",
      "| End of epoch  24 | Time:  0.54s | Train Accuracy    0.827 | Train Loss    0.424 | Valid Accuracy    0.796 | Valid Loss    0.475 \n",
      "-----------------------------------------------------------\n",
      "| epoch  25 |    50/  233 batches | accuracy    0.823\n",
      "| epoch  25 |   100/  233 batches | accuracy    0.826\n",
      "| epoch  25 |   150/  233 batches | accuracy    0.825\n",
      "| epoch  25 |   200/  233 batches | accuracy    0.830\n",
      "-----------------------------------------------------------\n",
      "| End of epoch  25 | Time:  0.54s | Train Accuracy    0.826 | Train Loss    0.413 | Valid Accuracy    0.793 | Valid Loss    0.471 \n",
      "-----------------------------------------------------------\n",
      "| epoch  26 |    50/  233 batches | accuracy    0.834\n",
      "| epoch  26 |   100/  233 batches | accuracy    0.824\n",
      "| epoch  26 |   150/  233 batches | accuracy    0.816\n",
      "| epoch  26 |   200/  233 batches | accuracy    0.831\n",
      "-----------------------------------------------------------\n",
      "| End of epoch  26 | Time:  0.54s | Train Accuracy    0.829 | Train Loss    0.410 | Valid Accuracy    0.796 | Valid Loss    0.485 \n",
      "-----------------------------------------------------------\n",
      "| epoch  27 |    50/  233 batches | accuracy    0.833\n",
      "| epoch  27 |   100/  233 batches | accuracy    0.836\n",
      "| epoch  27 |   150/  233 batches | accuracy    0.847\n",
      "| epoch  27 |   200/  233 batches | accuracy    0.839\n",
      "-----------------------------------------------------------\n",
      "| End of epoch  27 | Time:  0.54s | Train Accuracy    0.835 | Train Loss    0.397 | Valid Accuracy    0.794 | Valid Loss    0.495 \n",
      "-----------------------------------------------------------\n",
      "| epoch  28 |    50/  233 batches | accuracy    0.841\n",
      "| epoch  28 |   100/  233 batches | accuracy    0.832\n",
      "| epoch  28 |   150/  233 batches | accuracy    0.837\n",
      "| epoch  28 |   200/  233 batches | accuracy    0.825\n",
      "-----------------------------------------------------------\n",
      "| End of epoch  28 | Time:  0.55s | Train Accuracy    0.837 | Train Loss    0.403 | Valid Accuracy    0.800 | Valid Loss    0.478 \n",
      "-----------------------------------------------------------\n",
      "| epoch  29 |    50/  233 batches | accuracy    0.838\n",
      "| epoch  29 |   100/  233 batches | accuracy    0.836\n",
      "| epoch  29 |   150/  233 batches | accuracy    0.840\n",
      "| epoch  29 |   200/  233 batches | accuracy    0.837\n",
      "-----------------------------------------------------------\n",
      "| End of epoch  29 | Time:  0.54s | Train Accuracy    0.838 | Train Loss    0.394 | Valid Accuracy    0.802 | Valid Loss    0.464 \n",
      "-----------------------------------------------------------\n",
      "| epoch  30 |    50/  233 batches | accuracy    0.844\n",
      "| epoch  30 |   100/  233 batches | accuracy    0.843\n",
      "| epoch  30 |   150/  233 batches | accuracy    0.840\n",
      "| epoch  30 |   200/  233 batches | accuracy    0.822\n",
      "-----------------------------------------------------------\n",
      "| End of epoch  30 | Time:  0.54s | Train Accuracy    0.833 | Train Loss    0.395 | Valid Accuracy    0.797 | Valid Loss    0.473 \n",
      "-----------------------------------------------------------\n",
      "| epoch  31 |    50/  233 batches | accuracy    0.840\n",
      "| epoch  31 |   100/  233 batches | accuracy    0.841\n",
      "| epoch  31 |   150/  233 batches | accuracy    0.841\n",
      "| epoch  31 |   200/  233 batches | accuracy    0.842\n",
      "-----------------------------------------------------------\n",
      "| End of epoch  31 | Time:  0.60s | Train Accuracy    0.842 | Train Loss    0.390 | Valid Accuracy    0.797 | Valid Loss    0.482 \n",
      "-----------------------------------------------------------\n",
      "| epoch  32 |    50/  233 batches | accuracy    0.844\n",
      "| epoch  32 |   100/  233 batches | accuracy    0.846\n",
      "| epoch  32 |   150/  233 batches | accuracy    0.818\n",
      "| epoch  32 |   200/  233 batches | accuracy    0.808\n",
      "-----------------------------------------------------------\n",
      "| End of epoch  32 | Time:  0.64s | Train Accuracy    0.828 | Train Loss    0.411 | Valid Accuracy    0.790 | Valid Loss    0.484 \n",
      "-----------------------------------------------------------\n",
      "| epoch  33 |    50/  233 batches | accuracy    0.832\n",
      "| epoch  33 |   100/  233 batches | accuracy    0.842\n",
      "| epoch  33 |   150/  233 batches | accuracy    0.850\n",
      "| epoch  33 |   200/  233 batches | accuracy    0.845\n",
      "-----------------------------------------------------------\n",
      "| End of epoch  33 | Time:  0.60s | Train Accuracy    0.815 | Train Loss    0.396 | Valid Accuracy    0.788 | Valid Loss    0.494 \n",
      "-----------------------------------------------------------\n",
      "| epoch  34 |    50/  233 batches | accuracy    0.825\n",
      "| epoch  34 |   100/  233 batches | accuracy    0.825\n",
      "| epoch  34 |   150/  233 batches | accuracy    0.832\n",
      "| epoch  34 |   200/  233 batches | accuracy    0.831\n",
      "-----------------------------------------------------------\n",
      "| End of epoch  34 | Time:  0.64s | Train Accuracy    0.837 | Train Loss    0.406 | Valid Accuracy    0.796 | Valid Loss    0.477 \n",
      "-----------------------------------------------------------\n",
      "| epoch  35 |    50/  233 batches | accuracy    0.840\n",
      "| epoch  35 |   100/  233 batches | accuracy    0.838\n",
      "| epoch  35 |   150/  233 batches | accuracy    0.827\n",
      "| epoch  35 |   200/  233 batches | accuracy    0.823\n",
      "-----------------------------------------------------------\n",
      "| End of epoch  35 | Time:  0.68s | Train Accuracy    0.848 | Train Loss    0.398 | Valid Accuracy    0.789 | Valid Loss    0.513 \n",
      "-----------------------------------------------------------\n",
      "| epoch  36 |    50/  233 batches | accuracy    0.840\n",
      "| epoch  36 |   100/  233 batches | accuracy    0.830\n",
      "| epoch  36 |   150/  233 batches | accuracy    0.836\n",
      "| epoch  36 |   200/  233 batches | accuracy    0.819\n",
      "-----------------------------------------------------------\n",
      "| End of epoch  36 | Time:  0.66s | Train Accuracy    0.819 | Train Loss    0.410 | Valid Accuracy    0.790 | Valid Loss    0.482 \n",
      "-----------------------------------------------------------\n",
      "| epoch  37 |    50/  233 batches | accuracy    0.831\n",
      "| epoch  37 |   100/  233 batches | accuracy    0.829\n",
      "| epoch  37 |   150/  233 batches | accuracy    0.835\n",
      "| epoch  37 |   200/  233 batches | accuracy    0.841\n",
      "-----------------------------------------------------------\n",
      "| End of epoch  37 | Time:  0.62s | Train Accuracy    0.848 | Train Loss    0.392 | Valid Accuracy    0.804 | Valid Loss    0.471 \n",
      "-----------------------------------------------------------\n",
      "| epoch  38 |    50/  233 batches | accuracy    0.849\n",
      "| epoch  38 |   100/  233 batches | accuracy    0.845\n",
      "| epoch  38 |   150/  233 batches | accuracy    0.838\n",
      "| epoch  38 |   200/  233 batches | accuracy    0.848\n",
      "-----------------------------------------------------------\n",
      "| End of epoch  38 | Time:  0.61s | Train Accuracy    0.847 | Train Loss    0.380 | Valid Accuracy    0.801 | Valid Loss    0.470 \n",
      "-----------------------------------------------------------\n",
      "| epoch  39 |    50/  233 batches | accuracy    0.856\n",
      "| epoch  39 |   100/  233 batches | accuracy    0.849\n",
      "| epoch  39 |   150/  233 batches | accuracy    0.850\n",
      "| epoch  39 |   200/  233 batches | accuracy    0.844\n",
      "-----------------------------------------------------------\n",
      "| End of epoch  39 | Time:  0.69s | Train Accuracy    0.852 | Train Loss    0.375 | Valid Accuracy    0.805 | Valid Loss    0.467 \n",
      "-----------------------------------------------------------\n",
      "| epoch  40 |    50/  233 batches | accuracy    0.855\n",
      "| epoch  40 |   100/  233 batches | accuracy    0.859\n",
      "| epoch  40 |   150/  233 batches | accuracy    0.847\n",
      "| epoch  40 |   200/  233 batches | accuracy    0.846\n",
      "-----------------------------------------------------------\n",
      "| End of epoch  40 | Time:  0.56s | Train Accuracy    0.835 | Train Loss    0.372 | Valid Accuracy    0.801 | Valid Loss    0.464 \n",
      "-----------------------------------------------------------\n",
      "| epoch  41 |    50/  233 batches | accuracy    0.852\n",
      "| epoch  41 |   100/  233 batches | accuracy    0.855\n",
      "| epoch  41 |   150/  233 batches | accuracy    0.855\n",
      "| epoch  41 |   200/  233 batches | accuracy    0.853\n",
      "-----------------------------------------------------------\n",
      "| End of epoch  41 | Time:  0.56s | Train Accuracy    0.858 | Train Loss    0.361 | Valid Accuracy    0.809 | Valid Loss    0.463 \n",
      "-----------------------------------------------------------\n",
      "| epoch  42 |    50/  233 batches | accuracy    0.858\n",
      "| epoch  42 |   100/  233 batches | accuracy    0.864\n",
      "| epoch  42 |   150/  233 batches | accuracy    0.856\n",
      "| epoch  42 |   200/  233 batches | accuracy    0.849\n",
      "-----------------------------------------------------------\n",
      "| End of epoch  42 | Time:  0.55s | Train Accuracy    0.831 | Train Loss    0.362 | Valid Accuracy    0.797 | Valid Loss    0.468 \n",
      "-----------------------------------------------------------\n",
      "| epoch  43 |    50/  233 batches | accuracy    0.852\n",
      "| epoch  43 |   100/  233 batches | accuracy    0.860\n",
      "| epoch  43 |   150/  233 batches | accuracy    0.858\n",
      "| epoch  43 |   200/  233 batches | accuracy    0.862\n",
      "-----------------------------------------------------------\n",
      "| End of epoch  43 | Time:  0.70s | Train Accuracy    0.860 | Train Loss    0.356 | Valid Accuracy    0.809 | Valid Loss    0.459 \n",
      "-----------------------------------------------------------\n",
      "| epoch  44 |    50/  233 batches | accuracy    0.859\n",
      "| epoch  44 |   100/  233 batches | accuracy    0.852\n",
      "| epoch  44 |   150/  233 batches | accuracy    0.855\n",
      "| epoch  44 |   200/  233 batches | accuracy    0.863\n",
      "-----------------------------------------------------------\n",
      "| End of epoch  44 | Time:  0.67s | Train Accuracy    0.864 | Train Loss    0.354 | Valid Accuracy    0.811 | Valid Loss    0.455 \n",
      "-----------------------------------------------------------\n",
      "| epoch  45 |    50/  233 batches | accuracy    0.859\n",
      "| epoch  45 |   100/  233 batches | accuracy    0.863\n",
      "| epoch  45 |   150/  233 batches | accuracy    0.854\n",
      "| epoch  45 |   200/  233 batches | accuracy    0.853\n",
      "-----------------------------------------------------------\n",
      "| End of epoch  45 | Time:  0.74s | Train Accuracy    0.857 | Train Loss    0.360 | Valid Accuracy    0.808 | Valid Loss    0.468 \n",
      "-----------------------------------------------------------\n",
      "| epoch  46 |    50/  233 batches | accuracy    0.856\n",
      "| epoch  46 |   100/  233 batches | accuracy    0.866\n",
      "| epoch  46 |   150/  233 batches | accuracy    0.869\n",
      "| epoch  46 |   200/  233 batches | accuracy    0.810\n",
      "-----------------------------------------------------------\n",
      "| End of epoch  46 | Time:  0.66s | Train Accuracy    0.836 | Train Loss    0.380 | Valid Accuracy    0.795 | Valid Loss    0.479 \n",
      "-----------------------------------------------------------\n",
      "| epoch  47 |    50/  233 batches | accuracy    0.848\n",
      "| epoch  47 |   100/  233 batches | accuracy    0.843\n",
      "| epoch  47 |   150/  233 batches | accuracy    0.843\n",
      "| epoch  47 |   200/  233 batches | accuracy    0.855\n",
      "-----------------------------------------------------------\n",
      "| End of epoch  47 | Time:  0.58s | Train Accuracy    0.860 | Train Loss    0.372 | Valid Accuracy    0.804 | Valid Loss    0.471 \n",
      "-----------------------------------------------------------\n",
      "| epoch  48 |    50/  233 batches | accuracy    0.856\n",
      "| epoch  48 |   100/  233 batches | accuracy    0.867\n",
      "| epoch  48 |   150/  233 batches | accuracy    0.864\n",
      "| epoch  48 |   200/  233 batches | accuracy    0.863\n",
      "-----------------------------------------------------------\n",
      "| End of epoch  48 | Time:  0.54s | Train Accuracy    0.860 | Train Loss    0.350 | Valid Accuracy    0.808 | Valid Loss    0.470 \n",
      "-----------------------------------------------------------\n",
      "| epoch  49 |    50/  233 batches | accuracy    0.866\n",
      "| epoch  49 |   100/  233 batches | accuracy    0.869\n",
      "| epoch  49 |   150/  233 batches | accuracy    0.863\n",
      "| epoch  49 |   200/  233 batches | accuracy    0.802\n",
      "-----------------------------------------------------------\n",
      "| End of epoch  49 | Time:  0.58s | Train Accuracy    0.840 | Train Loss    0.380 | Valid Accuracy    0.794 | Valid Loss    0.489 \n",
      "-----------------------------------------------------------\n",
      "| epoch  50 |    50/  233 batches | accuracy    0.846\n",
      "| epoch  50 |   100/  233 batches | accuracy    0.858\n",
      "| epoch  50 |   150/  233 batches | accuracy    0.865\n",
      "| epoch  50 |   200/  233 batches | accuracy    0.848\n",
      "-----------------------------------------------------------\n",
      "| End of epoch  50 | Time:  0.60s | Train Accuracy    0.733 | Train Loss    0.386 | Valid Accuracy    0.675 | Valid Loss    0.584 \n",
      "-----------------------------------------------------------\n"
     ]
    }
   ],
   "source": [
    "import torch.optim as optim\n",
    "\n",
    "device = torch.device('cuda' if torch.cuda.is_available() else 'cpu')\n",
    "\n",
    "model = RNNClassifier(vocab_size=10000, num_classes=2)\n",
    "model.to(device)\n",
    "\n",
    "criterion = torch.nn.CrossEntropyLoss()\n",
    "optimizer = optim.Adam(model.parameters(), lr=0.0001)\n",
    "\n",
    "num_epochs = 50\n",
    "save_model = './model'\n",
    "os.makedirs(save_model, exist_ok = True)\n",
    "model_name = 'model'\n",
    "\n",
    "model, metrics = train(\n",
    "    model, model_name, save_model, optimizer, criterion, train_dataloader, valid_dataloader, num_epochs, device\n",
    ")"
   ]
  },
  {
   "cell_type": "code",
   "execution_count": 49,
   "id": "8bb843e1",
   "metadata": {},
   "outputs": [
    {
     "data": {
      "image/png": "[encoded data removed]",
      "text/plain": [
       "<Figure size 1200x600 with 2 Axes>"
      ]
     },
     "metadata": {},
     "output_type": "display_data"
    }
   ],
   "source": [
    "plot_result(\n",
    "    num_epochs,\n",
    "    metrics[\"train_accuracy\"],\n",
    "    metrics[\"valid_accuracy\"],\n",
    "    metrics[\"train_loss\"],\n",
    "    metrics[\"valid_loss\"]\n",
    ")"
   ]
  },
  {
   "cell_type": "code",
   "execution_count": 50,
   "id": "b45c4d05",
   "metadata": {},
   "outputs": [
    {
     "data": {
      "text/plain": [
       "(0.6772, 0.5823293369782122)"
      ]
     },
     "execution_count": 50,
     "metadata": {},
     "output_type": "execute_result"
    }
   ],
   "source": [
    "test_acc, test_loss = evaluate_epoch(model, criterion, test_dataloader, device)\n",
    "test_acc, test_loss"
   ]
  },
  {
   "cell_type": "code",
   "execution_count": 51,
   "id": "0a596d17",
   "metadata": {},
   "outputs": [],
   "source": [
    "def inference(sentence, vocabulary, model, device):\n",
    "    sentence = preprocess_text(sentence)\n",
    "    encoded_sentence = vocabulary(tokenizer(sentence))\n",
    "    encoded_sentence = torch.tensor([encoded_sentence])\n",
    "    encoded_sentence = encoded_sentence.to(device)\n",
    "\n",
    "    with torch.no_grad():\n",
    "        predictions = model(encoded_sentence, device)\n",
    "    preds = nn.Softmax(dim=1)(predictions)\n",
    "    p_max, yhat = torch.max(preds.data, 1)\n",
    "\n",
    "    return round(p_max.item(), 2)*100, yhat.item()"
   ]
  },
  {
   "cell_type": "code",
   "execution_count": 52,
   "id": "cc96256c",
   "metadata": {},
   "outputs": [
    {
     "data": {
      "text/plain": [
       "(80.0, 0)"
      ]
     },
     "execution_count": 52,
     "metadata": {},
     "output_type": "execute_result"
    }
   ],
   "source": [
    "inference(sentence='quán ăn dở quá', vocabulary=vocabulary, model=model, device=device)"
   ]
  }
 ],
 "metadata": {
  "kernelspec": {
   "display_name": "test-env",
   "language": "python",
   "name": "python3"
  },
  "language_info": {
   "codemirror_mode": {
    "name": "ipython",
    "version": 3
   },
   "file_extension": ".py",
   "mimetype": "text/x-python",
   "name": "python",
   "nbconvert_exporter": "python",
   "pygments_lexer": "ipython3",
   "version": "3.10.16"
  }
 },
 "nbformat": 4,
 "nbformat_minor": 5
}

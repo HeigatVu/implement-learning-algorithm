{
 "cells": [
  {
   "cell_type": "code",
   "execution_count": 5,
   "id": "75d18d26",
   "metadata": {},
   "outputs": [],
   "source": [
    "import torch\n",
    "import torch.nn as nn"
   ]
  },
  {
   "cell_type": "markdown",
   "id": "560f74a1",
   "metadata": {},
   "source": [
    "BATCH NORM"
   ]
  },
  {
   "cell_type": "code",
   "execution_count": 6,
   "id": "a766adce",
   "metadata": {},
   "outputs": [
    {
     "data": {
      "text/plain": [
       "tensor([[0., 1., 1.],\n",
       "        [0., 1., 4.],\n",
       "        [1., 2., 3.],\n",
       "        [2., 1., 1.]])"
      ]
     },
     "execution_count": 6,
     "metadata": {},
     "output_type": "execute_result"
    }
   ],
   "source": [
    "input = torch.randint(5, (4, 3), dtype=torch.float32)\n",
    "input"
   ]
  },
  {
   "cell_type": "code",
   "execution_count": 9,
   "id": "c17f981e",
   "metadata": {},
   "outputs": [
    {
     "data": {
      "text/plain": [
       "Parameter containing:\n",
       "tensor([0., 0., 0.], requires_grad=True)"
      ]
     },
     "execution_count": 9,
     "metadata": {},
     "output_type": "execute_result"
    }
   ],
   "source": [
    "batch_norm_layer = nn.BatchNorm1d(num_features=3) # With 3 features of tensor above\n",
    "batch_norm_layer.weight\n",
    "batch_norm_layer.bias"
   ]
  },
  {
   "cell_type": "code",
   "execution_count": 10,
   "id": "ac429afb",
   "metadata": {},
   "outputs": [
    {
     "data": {
      "text/plain": [
       "tensor([[-0.9045, -0.5773, -0.9622],\n",
       "        [-0.9045, -0.5773,  1.3471],\n",
       "        [ 0.3015,  1.7320,  0.5773],\n",
       "        [ 1.5075, -0.5773, -0.9622]], grad_fn=<NativeBatchNormBackward0>)"
      ]
     },
     "execution_count": 10,
     "metadata": {},
     "output_type": "execute_result"
    }
   ],
   "source": [
    "output = batch_norm_layer(input)\n",
    "output"
   ]
  },
  {
   "cell_type": "markdown",
   "id": "7579b11b",
   "metadata": {},
   "source": [
    "DROPOUT"
   ]
  },
  {
   "cell_type": "code",
   "execution_count": 11,
   "id": "a1aa146f",
   "metadata": {},
   "outputs": [],
   "source": [
    "model = nn.Sequential(\n",
    "    nn.Flatten(),\n",
    "    nn.Linear(3*2, 5),\n",
    "    nn.ReLU(),\n",
    "    nn.Dropout(0.2),\n",
    "    nn.Linear(5, 2),\n",
    ")"
   ]
  },
  {
   "cell_type": "code",
   "execution_count": 12,
   "id": "7ae955b2",
   "metadata": {},
   "outputs": [
    {
     "name": "stdout",
     "output_type": "stream",
     "text": [
      "Parameter containing:\n",
      "tensor([[ 0.1707, -0.2601,  0.2058,  0.3536, -0.2757,  0.0919],\n",
      "        [ 0.0482, -0.1449,  0.0964, -0.1117, -0.0353, -0.0829],\n",
      "        [-0.3608,  0.0361,  0.3839,  0.0516,  0.0736,  0.0121],\n",
      "        [-0.3642, -0.3233, -0.0645, -0.1181, -0.3405,  0.1251],\n",
      "        [ 0.3036, -0.1293,  0.2550,  0.3439, -0.3321, -0.0536]],\n",
      "       requires_grad=True)\n",
      "Parameter containing:\n",
      "tensor([-0.1336,  0.2753, -0.0932,  0.3997, -0.0616], requires_grad=True)\n",
      "Parameter containing:\n",
      "tensor([[ 0.0473,  0.2128, -0.1982, -0.3846,  0.1435],\n",
      "        [ 0.3533, -0.0346,  0.0158,  0.2009, -0.0377]], requires_grad=True)\n",
      "Parameter containing:\n",
      "tensor([-0.2490, -0.0960], requires_grad=True)\n"
     ]
    }
   ],
   "source": [
    "for p in model.parameters():\n",
    "    print(p)"
   ]
  }
 ],
 "metadata": {
  "kernelspec": {
   "display_name": "aio-hw2024",
   "language": "python",
   "name": "python3"
  },
  "language_info": {
   "codemirror_mode": {
    "name": "ipython",
    "version": 3
   },
   "file_extension": ".py",
   "mimetype": "text/x-python",
   "name": "python",
   "nbconvert_exporter": "python",
   "pygments_lexer": "ipython3",
   "version": "3.11.11"
  }
 },
 "nbformat": 4,
 "nbformat_minor": 5
}

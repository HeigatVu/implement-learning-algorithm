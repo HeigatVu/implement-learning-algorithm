{
 "cells": [
  {
   "cell_type": "code",
   "execution_count": 1,
   "id": "80c28768",
   "metadata": {},
   "outputs": [],
   "source": [
    "import torch\n",
    "import torchvision.transforms as transforms\n",
    "from torch import nn\n",
    "import torch.nn.functional as F\n",
    "import numpy as np"
   ]
  },
  {
   "cell_type": "code",
   "execution_count": 2,
   "id": "75aabcb8",
   "metadata": {},
   "outputs": [
    {
     "name": "stdout",
     "output_type": "stream",
     "text": [
      "tensor([[[[-1.3867,  1.3867],\n",
      "          [-0.2773,  0.2773]]]])\n"
     ]
    }
   ],
   "source": [
    "data = np.array([[[1, 6], [3, 4]]])\n",
    "data = torch.tensor(data, dtype=torch.float32)\n",
    "\n",
    "batch_norm = nn.BatchNorm2d(1)\n",
    "data = data.unsqueeze(0)  # Add batch dimension\n",
    "with torch.no_grad():\n",
    "    output = batch_norm(data)\n",
    "    print(output)"
   ]
  },
  {
   "cell_type": "code",
   "execution_count": 3,
   "id": "501cdb07",
   "metadata": {},
   "outputs": [
    {
     "name": "stdout",
     "output_type": "stream",
     "text": [
      "tensor([[[1., 2.],\n",
      "         [3., 4.]],\n",
      "\n",
      "        [[5., 6.],\n",
      "         [7., 8.]]])\n"
     ]
    }
   ],
   "source": [
    "a = torch.tensor([[1, 2], [3, 4]], dtype=torch.float32)\n",
    "b = torch.tensor([[5, 6], [7, 8]], dtype=torch.float32)\n",
    "\n",
    "a = a.reshape(1, 2, 2)\n",
    "b = b.reshape(1, 2, 2)\n",
    "\n",
    "c = torch.cat((a, b))\n",
    "print(c)"
   ]
  },
  {
   "cell_type": "code",
   "execution_count": 6,
   "id": "7cfee9f1",
   "metadata": {},
   "outputs": [
    {
     "name": "stdout",
     "output_type": "stream",
     "text": [
      "tensor([[[[1.0739, 2.5891],\n",
      "          [4.1044, 5.6197]]]])\n"
     ]
    }
   ],
   "source": [
    "seed = 1\n",
    "torch.manual_seed(seed)\n",
    "input_tensor = torch.tensor([[[[1.0, 2.0], [3.0, 4.0]]]])\n",
    "conv_layer = nn.Conv2d(in_channels=1, out_channels=1, kernel_size=1)\n",
    "conv_output = conv_layer(input_tensor)\n",
    "\n",
    "with torch.no_grad():\n",
    "    conv_output = conv_layer(input_tensor) + input_tensor\n",
    "    print(conv_output)"
   ]
  },
  {
   "cell_type": "code",
   "execution_count": null,
   "id": "17c611b4",
   "metadata": {},
   "outputs": [],
   "source": []
  }
 ],
 "metadata": {
  "kernelspec": {
   "display_name": "aio-hw2024",
   "language": "python",
   "name": "python3"
  },
  "language_info": {
   "codemirror_mode": {
    "name": "ipython",
    "version": 3
   },
   "file_extension": ".py",
   "mimetype": "text/x-python",
   "name": "python",
   "nbconvert_exporter": "python",
   "pygments_lexer": "ipython3",
   "version": "3.11.11"
  }
 },
 "nbformat": 4,
 "nbformat_minor": 5
}

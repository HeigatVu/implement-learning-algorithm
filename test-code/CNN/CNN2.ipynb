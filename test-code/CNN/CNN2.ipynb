{
 "cells": [
  {
   "cell_type": "code",
   "execution_count": 7,
   "id": "c66b1449",
   "metadata": {},
   "outputs": [],
   "source": [
    "import torch\n",
    "from torch import nn\n",
    "from torchsummary import summary"
   ]
  },
  {
   "cell_type": "markdown",
   "id": "2126cfa2",
   "metadata": {},
   "source": [
    "TEST CODE"
   ]
  },
  {
   "cell_type": "code",
   "execution_count": 9,
   "id": "bad88be6",
   "metadata": {},
   "outputs": [
    {
     "name": "stdout",
     "output_type": "stream",
     "text": [
      "----------------------------------------------------------------\n",
      "        Layer (type)               Output Shape         Param #\n",
      "================================================================\n",
      "            Conv2d-1            [-1, 2, 30, 30]              20\n",
      "              ReLU-2            [-1, 2, 30, 30]               0\n",
      "         MaxPool2d-3            [-1, 2, 15, 15]               0\n",
      "            Conv2d-4            [-1, 3, 14, 14]              27\n",
      "              ReLU-5            [-1, 3, 14, 14]               0\n",
      "         MaxPool2d-6              [-1, 3, 7, 7]               0\n",
      "           Flatten-7                  [-1, 147]               0\n",
      "            Linear-8                   [-1, 64]           9,472\n",
      "              ReLU-9                   [-1, 64]               0\n",
      "           Linear-10                   [-1, 10]             650\n",
      "================================================================\n",
      "Total params: 10,169\n",
      "Trainable params: 10,169\n",
      "Non-trainable params: 0\n",
      "----------------------------------------------------------------\n",
      "Input size (MB): 0.00\n",
      "Forward/backward pass size (MB): 0.04\n",
      "Params size (MB): 0.04\n",
      "Estimated Total Size (MB): 0.09\n",
      "----------------------------------------------------------------\n"
     ]
    }
   ],
   "source": [
    "model = nn.Sequential(\n",
    "    nn.Conv2d(in_channels=1, out_channels=2, kernel_size=3),\n",
    "    nn.ReLU(),\n",
    "    nn.MaxPool2d(kernel_size=2, stride=2),\n",
    "    nn.Conv2d(in_channels=2, out_channels=3, kernel_size=2),\n",
    "    nn.ReLU(),\n",
    "    nn.MaxPool2d(kernel_size=2, stride=2),\n",
    "    nn.Flatten(),\n",
    "    nn.Linear(147, 64),\n",
    "    nn.ReLU(),\n",
    "    nn.Linear(64, 10),\n",
    ").to('cuda')  # Move the model to GPU\n",
    "summary(model, (1, 32, 32), device='cuda')  # Specify the device as 'cuda'"
   ]
  },
  {
   "cell_type": "markdown",
   "id": "8fa1bf43",
   "metadata": {},
   "source": [
    "TEST IMPLEMENT VGG"
   ]
  },
  {
   "cell_type": "code",
   "execution_count": 11,
   "id": "95ac3cb7",
   "metadata": {},
   "outputs": [
    {
     "name": "stdout",
     "output_type": "stream",
     "text": [
      "----------------------------------------------------------------\n",
      "        Layer (type)               Output Shape         Param #\n",
      "================================================================\n",
      "            Conv2d-1         [-1, 64, 224, 224]           1,792\n",
      "              ReLU-2         [-1, 64, 224, 224]               0\n",
      "            Conv2d-3         [-1, 64, 224, 224]          36,928\n",
      "              ReLU-4         [-1, 64, 224, 224]               0\n",
      "         MaxPool2d-5         [-1, 64, 112, 112]               0\n",
      "            Conv2d-6        [-1, 128, 112, 112]          73,856\n",
      "              ReLU-7        [-1, 128, 112, 112]               0\n",
      "            Conv2d-8        [-1, 128, 112, 112]         147,584\n",
      "              ReLU-9        [-1, 128, 112, 112]               0\n",
      "        MaxPool2d-10          [-1, 128, 56, 56]               0\n",
      "           Conv2d-11          [-1, 256, 56, 56]         295,168\n",
      "             ReLU-12          [-1, 256, 56, 56]               0\n",
      "           Conv2d-13          [-1, 256, 56, 56]         590,080\n",
      "             ReLU-14          [-1, 256, 56, 56]               0\n",
      "           Conv2d-15          [-1, 256, 56, 56]         590,080\n",
      "             ReLU-16          [-1, 256, 56, 56]               0\n",
      "        MaxPool2d-17          [-1, 256, 28, 28]               0\n",
      "           Conv2d-18          [-1, 512, 28, 28]       1,180,160\n",
      "             ReLU-19          [-1, 512, 28, 28]               0\n",
      "           Conv2d-20          [-1, 512, 28, 28]       2,359,808\n",
      "             ReLU-21          [-1, 512, 28, 28]               0\n",
      "           Conv2d-22          [-1, 512, 28, 28]       2,359,808\n",
      "             ReLU-23          [-1, 512, 28, 28]               0\n",
      "        MaxPool2d-24          [-1, 512, 14, 14]               0\n",
      "           Conv2d-25          [-1, 512, 14, 14]       2,359,808\n",
      "             ReLU-26          [-1, 512, 14, 14]               0\n",
      "           Conv2d-27          [-1, 512, 14, 14]       2,359,808\n",
      "             ReLU-28          [-1, 512, 14, 14]               0\n",
      "           Conv2d-29          [-1, 512, 14, 14]       2,359,808\n",
      "             ReLU-30          [-1, 512, 14, 14]               0\n",
      "        MaxPool2d-31            [-1, 512, 7, 7]               0\n",
      "          Flatten-32                [-1, 25088]               0\n",
      "           Linear-33                 [-1, 4096]     102,764,544\n",
      "             ReLU-34                 [-1, 4096]               0\n",
      "           Linear-35                 [-1, 4096]      16,781,312\n",
      "             ReLU-36                 [-1, 4096]               0\n",
      "           Linear-37                 [-1, 1000]       4,097,000\n",
      "             ReLU-38                 [-1, 1000]               0\n",
      "           Linear-39                 [-1, 1000]       1,001,000\n",
      "          Softmax-40                 [-1, 1000]               0\n",
      "================================================================\n",
      "Total params: 139,358,544\n",
      "Trainable params: 139,358,544\n",
      "Non-trainable params: 0\n",
      "----------------------------------------------------------------\n",
      "Input size (MB): 0.57\n",
      "Forward/backward pass size (MB): 218.74\n",
      "Params size (MB): 531.61\n",
      "Estimated Total Size (MB): 750.93\n",
      "----------------------------------------------------------------\n"
     ]
    },
    {
     "name": "stderr",
     "output_type": "stream",
     "text": [
      "/home/heigetvu/anaconda3/envs/aio-hw2024/lib/python3.10/site-packages/torch/nn/modules/module.py:1845: UserWarning: Implicit dimension choice for softmax has been deprecated. Change the call to include dim=X as an argument.\n",
      "  return inner()\n"
     ]
    }
   ],
   "source": [
    "model = nn.Sequential(\n",
    "    nn.Conv2d(in_channels=3, out_channels=64, kernel_size=3, padding=\"same\"), nn.ReLU(inplace=True),\n",
    "    nn.Conv2d(in_channels=64, out_channels=64, kernel_size=3, padding=\"same\"), nn.ReLU(inplace=True),\n",
    "    nn.MaxPool2d(kernel_size=2, stride=2),\n",
    "\n",
    "    nn.Conv2d(in_channels=64, out_channels=128, kernel_size=3, padding=\"same\"), nn.ReLU(inplace=True),\n",
    "    nn.Conv2d(in_channels=128, out_channels=128, kernel_size=3, padding=\"same\"), nn.ReLU(inplace=True),\n",
    "    nn.MaxPool2d(kernel_size=2, stride=2),\n",
    "\n",
    "    nn.Conv2d(in_channels=128, out_channels=256, kernel_size=3, padding=\"same\"), nn.ReLU(inplace=True),\n",
    "    nn.Conv2d(in_channels=256, out_channels=256, kernel_size=3, padding=\"same\"), nn.ReLU(inplace=True),\n",
    "    nn.Conv2d(in_channels=256, out_channels=256, kernel_size=3, padding=\"same\"), nn.ReLU(inplace=True),\n",
    "    nn.MaxPool2d(kernel_size=2, stride=2),\n",
    "\n",
    "    nn.Conv2d(in_channels=256, out_channels=512, kernel_size=3, padding=\"same\"), nn.ReLU(inplace=True),\n",
    "    nn.Conv2d(in_channels=512, out_channels=512, kernel_size=3, padding=\"same\"), nn.ReLU(inplace=True),\n",
    "    nn.Conv2d(in_channels=512, out_channels=512, kernel_size=3, padding=\"same\"), nn.ReLU(inplace=True),\n",
    "    nn.MaxPool2d(kernel_size=2, stride=2),\n",
    "\n",
    "    nn.Conv2d(in_channels=512, out_channels=512, kernel_size=3, padding=\"same\"), nn.ReLU(inplace=True),\n",
    "    nn.Conv2d(in_channels=512, out_channels=512, kernel_size=3, padding=\"same\"), nn.ReLU(inplace=True),\n",
    "    nn.Conv2d(in_channels=512, out_channels=512, kernel_size=3, padding=\"same\"), nn.ReLU(inplace=True),\n",
    "    nn.MaxPool2d(kernel_size=2, stride=2),\n",
    "\n",
    "    nn.Flatten(),\n",
    "    nn.Linear(25088, 4096), nn.ReLU(inplace=True),\n",
    "    nn.Linear(4096, 4096), nn.ReLU(inplace=True),\n",
    "    nn.Linear(4096, 1000), nn.ReLU(inplace=True),\n",
    "    nn.Linear(1000, 1000), nn.Softmax(),\n",
    "\n",
    ").to('cuda')  # Move the model to GPU\n",
    "summary(model, (3, 224, 224), device='cuda')  # Specify the device as 'cuda'"
   ]
  }
 ],
 "metadata": {
  "kernelspec": {
   "display_name": "aio-hw2024",
   "language": "python",
   "name": "python3"
  },
  "language_info": {
   "codemirror_mode": {
    "name": "ipython",
    "version": 3
   },
   "file_extension": ".py",
   "mimetype": "text/x-python",
   "name": "python",
   "nbconvert_exporter": "python",
   "pygments_lexer": "ipython3",
   "version": "3.10.17"
  }
 },
 "nbformat": 4,
 "nbformat_minor": 5
}

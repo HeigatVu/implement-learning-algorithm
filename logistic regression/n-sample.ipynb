{
 "cells": [
  {
   "cell_type": "code",
   "execution_count": 112,
   "id": "d2afd815",
   "metadata": {},
   "outputs": [],
   "source": [
    "import numpy as np"
   ]
  },
  {
   "cell_type": "code",
   "execution_count": 113,
   "id": "26f112dc",
   "metadata": {},
   "outputs": [],
   "source": [
    "X = np.array([\n",
    "    [1.0, 0.5],\n",
    "    [2.0, 1.0],\n",
    "    [3.0, 1.5],\n",
    "    [2.0, 2.0],\n",
    "    [1.0, 2.5],\n",
    "    [2.0, 3.0],\n",
    "    [1.0, 3.5],\n",
    "    [2.0, 4.0],\n",
    "])\n",
    "Y = np.array([0, 0, 1, 0, 0, 1, 1, 1])"
   ]
  },
  {
   "cell_type": "code",
   "execution_count": 114,
   "id": "0ba4b30b",
   "metadata": {},
   "outputs": [],
   "source": [
    "n_samples = X.shape[0]"
   ]
  },
  {
   "cell_type": "code",
   "execution_count": 115,
   "id": "514d9750",
   "metadata": {},
   "outputs": [
    {
     "data": {
      "text/plain": [
       "(8, 3)"
      ]
     },
     "execution_count": 115,
     "metadata": {},
     "output_type": "execute_result"
    }
   ],
   "source": [
    "# Add vector bias\n",
    "X = np.hstack([np.ones((n_samples, 1)), X])\n",
    "X.shape"
   ]
  },
  {
   "cell_type": "code",
   "execution_count": 116,
   "id": "3823cb45",
   "metadata": {},
   "outputs": [
    {
     "data": {
      "text/plain": [
       "(3,)"
      ]
     },
     "execution_count": 116,
     "metadata": {},
     "output_type": "execute_result"
    }
   ],
   "source": [
    "n_features = X.shape[-1]\n",
    "theta = np.random.rand(n_features)\n",
    "theta.shape"
   ]
  },
  {
   "cell_type": "code",
   "execution_count": 117,
   "id": "775eeb7a",
   "metadata": {},
   "outputs": [],
   "source": [
    "# Calcualte logistic function\n",
    "def logistic_fn(x):\n",
    "    return 1 / (1 + np.exp(-x))\n",
    "\n",
    "# Predict\n",
    "def predict(x, theta):\n",
    "    z = np.dot(x, theta)\n",
    "    y_hat = logistic_fn(z)\n",
    "    return y_hat\n",
    "\n",
    "# Compute loss\n",
    "def compute_loss(y, y_hat):\n",
    "    m = len(y)\n",
    "    error = (-1 * y) * np.log(y_hat) - (1 - y) * np.log(1 - y_hat)\n",
    "    cost = 1 / m * sum(error)\n",
    "    return cost\n",
    "\n",
    "# Compute gradient\n",
    "def compute_gradient(x, y, y_hat):\n",
    "    m = len(y)\n",
    "    gradient = 1/m * np.dot(x.T, (y_hat - y))\n",
    "    return gradient\n",
    "\n",
    "# Update weight\n",
    "def update_weight(theta, gradient, LEARNING_RATE=0.1):\n",
    "    new_theta = theta - (gradient * LEARNING_RATE)\n",
    "    return new_theta"
   ]
  },
  {
   "cell_type": "code",
   "execution_count": 118,
   "id": "c03eef71",
   "metadata": {},
   "outputs": [
    {
     "name": "stderr",
     "output_type": "stream",
     "text": [
      "/tmp/ipykernel_68167/2141888285.py:14: RuntimeWarning: divide by zero encountered in log\n",
      "  error = (-1 * y) * np.log(y_hat) - (1 - y) * np.log(1 - y_hat)\n"
     ]
    },
    {
     "data": {
      "text/plain": [
       "(array([0.31894127, 0.15658781, 0.20363124]),\n",
       " [np.float64(inf),\n",
       "  np.float64(inf),\n",
       "  np.float64(inf),\n",
       "  np.float64(inf),\n",
       "  np.float64(inf),\n",
       "  np.float64(inf),\n",
       "  np.float64(inf),\n",
       "  np.float64(inf),\n",
       "  np.float64(inf),\n",
       "  np.float64(inf)])"
      ]
     },
     "execution_count": 118,
     "metadata": {},
     "output_type": "execute_result"
    }
   ],
   "source": [
    "# param\n",
    "n_epochs = 10\n",
    "lr = 0.001\n",
    "epsilon = 1e-5  # A small number\n",
    "\n",
    "losses = []\n",
    "for epoch in range(n_epochs):\n",
    "  # get all the samples\n",
    "  x = X\n",
    "  y = Y\n",
    "\n",
    "  # predict y_hat\n",
    "  y_hat = predict(x, theta)\n",
    "  y_hat_clipped = np.clip(y_hat, epsilon, 1 - epsilon)\n",
    "\n",
    "  # compute loss\n",
    "  loss = compute_loss(y_hat_clipped, y)\n",
    "  losses.append(loss)\n",
    "\n",
    "  # compute gradient\n",
    "  gradient = compute_gradient(x, y, y_hat_clipped)\n",
    "\n",
    "  # update weights\n",
    "  theta = update_weight(theta, gradient, lr)\n",
    "\n",
    "theta, losses"
   ]
  },
  {
   "cell_type": "code",
   "execution_count": null,
   "id": "85ee85c2",
   "metadata": {},
   "outputs": [],
   "source": []
  }
 ],
 "metadata": {
  "kernelspec": {
   "display_name": "aio-hw2024",
   "language": "python",
   "name": "python3"
  },
  "language_info": {
   "codemirror_mode": {
    "name": "ipython",
    "version": 3
   },
   "file_extension": ".py",
   "mimetype": "text/x-python",
   "name": "python",
   "nbconvert_exporter": "python",
   "pygments_lexer": "ipython3",
   "version": "3.9.21"
  }
 },
 "nbformat": 4,
 "nbformat_minor": 5
}

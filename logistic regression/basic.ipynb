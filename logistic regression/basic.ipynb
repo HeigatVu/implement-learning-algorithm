{
 "cells": [
  {
   "cell_type": "code",
   "execution_count": 129,
   "id": "7c5592f1",
   "metadata": {},
   "outputs": [],
   "source": [
    "import numpy as np\n",
    "import matplotlib.pyplot as plt"
   ]
  },
  {
   "cell_type": "markdown",
   "id": "24a7cd7b",
   "metadata": {},
   "source": [
    "BASIC LOGISTIC REGRESSION"
   ]
  },
  {
   "cell_type": "markdown",
   "id": "e4ab76cb",
   "metadata": {},
   "source": [
    "Sample 1"
   ]
  },
  {
   "cell_type": "code",
   "execution_count": 130,
   "id": "30334ef0",
   "metadata": {},
   "outputs": [],
   "source": [
    "x = np.array([1.0, 0.5])\n",
    "y = np.array([0])"
   ]
  },
  {
   "cell_type": "code",
   "execution_count": 131,
   "id": "ef1986d1",
   "metadata": {},
   "outputs": [
    {
     "data": {
      "text/plain": [
       "((2,), (1,))"
      ]
     },
     "execution_count": 131,
     "metadata": {},
     "output_type": "execute_result"
    }
   ],
   "source": [
    "x.shape, y.shape"
   ]
  },
  {
   "cell_type": "code",
   "execution_count": 132,
   "id": "5a02bdd0",
   "metadata": {},
   "outputs": [
    {
     "data": {
      "text/plain": [
       "(2,)"
      ]
     },
     "execution_count": 132,
     "metadata": {},
     "output_type": "execute_result"
    }
   ],
   "source": [
    "theta = np.array([0.1, 0.1])\n",
    "theta.shape"
   ]
  },
  {
   "cell_type": "code",
   "execution_count": 133,
   "id": "9148e0e3",
   "metadata": {},
   "outputs": [
    {
     "data": {
      "text/plain": [
       "np.float64(0.15000000000000002)"
      ]
     },
     "execution_count": 133,
     "metadata": {},
     "output_type": "execute_result"
    }
   ],
   "source": [
    "z = np.dot(theta.T, x)\n",
    "z"
   ]
  },
  {
   "cell_type": "code",
   "execution_count": 134,
   "id": "ab2d3597",
   "metadata": {},
   "outputs": [],
   "source": [
    "# Logistic function\n",
    "def logistic_fn(x):\n",
    "    return 1 / (1 + np.exp(-x))"
   ]
  },
  {
   "cell_type": "code",
   "execution_count": 135,
   "id": "cbc9283a",
   "metadata": {},
   "outputs": [
    {
     "name": "stdout",
     "output_type": "stream",
     "text": [
      "0.54\n"
     ]
    }
   ],
   "source": [
    "y_hat = logistic_fn(z)\n",
    "print(f\"{y_hat:.2f}\")"
   ]
  },
  {
   "cell_type": "code",
   "execution_count": 136,
   "id": "e4224ded",
   "metadata": {},
   "outputs": [
    {
     "data": {
      "text/plain": [
       "0.7709570477895322"
      ]
     },
     "execution_count": 136,
     "metadata": {},
     "output_type": "execute_result"
    }
   ],
   "source": [
    "# Compute loss\n",
    "loss = (-1 * y) * np.log(y_hat) - (1 - y) * np.log(1 - y_hat)\n",
    "float(loss[0])"
   ]
  },
  {
   "cell_type": "code",
   "execution_count": 137,
   "id": "cfbaf27c",
   "metadata": {},
   "outputs": [
    {
     "data": {
      "text/plain": [
       "array([0.53742985, 0.26871492])"
      ]
     },
     "execution_count": 137,
     "metadata": {},
     "output_type": "execute_result"
    }
   ],
   "source": [
    "# Compute derivation\n",
    "gradient = x*(y_hat - y)\n",
    "gradient"
   ]
  },
  {
   "cell_type": "code",
   "execution_count": 138,
   "id": "4e6166dc",
   "metadata": {},
   "outputs": [
    {
     "data": {
      "text/plain": [
       "array([0.04625702, 0.07312851])"
      ]
     },
     "execution_count": 138,
     "metadata": {},
     "output_type": "execute_result"
    }
   ],
   "source": [
    "# Update parameter\n",
    "LEARNING_RATE = 0.1\n",
    "theta -= (LEARNING_RATE * gradient)\n",
    "theta"
   ]
  },
  {
   "cell_type": "code",
   "execution_count": 139,
   "id": "7d196e11",
   "metadata": {},
   "outputs": [
    {
     "data": {
      "text/plain": [
       "np.float64(0.08282126933203131)"
      ]
     },
     "execution_count": 139,
     "metadata": {},
     "output_type": "execute_result"
    }
   ],
   "source": [
    "z = np.dot(theta.T , x)\n",
    "z"
   ]
  },
  {
   "cell_type": "code",
   "execution_count": 140,
   "id": "2b35a70b",
   "metadata": {},
   "outputs": [
    {
     "data": {
      "text/plain": [
       "np.float64(0.520693490005697)"
      ]
     },
     "execution_count": 140,
     "metadata": {},
     "output_type": "execute_result"
    }
   ],
   "source": [
    "y_hat = logistic_fn(z)\n",
    "y_hat"
   ]
  },
  {
   "cell_type": "code",
   "execution_count": 141,
   "id": "b41e9460",
   "metadata": {},
   "outputs": [
    {
     "data": {
      "text/plain": [
       "0.7354149906131442"
      ]
     },
     "execution_count": 141,
     "metadata": {},
     "output_type": "execute_result"
    }
   ],
   "source": [
    "# Compute loss\n",
    "loss = (-1 * y) * np.log(y_hat) - (1 - y) * np.log(1 - y_hat)\n",
    "float(loss[0])"
   ]
  },
  {
   "cell_type": "markdown",
   "id": "046db40e",
   "metadata": {},
   "source": [
    "Sample 2"
   ]
  },
  {
   "cell_type": "code",
   "execution_count": 142,
   "id": "3d23bab2",
   "metadata": {},
   "outputs": [],
   "source": [
    "X = np.array([1.0, 1.0])\n",
    "y = np.array([0])"
   ]
  },
  {
   "cell_type": "code",
   "execution_count": 143,
   "id": "eb650303",
   "metadata": {},
   "outputs": [
    {
     "data": {
      "text/plain": [
       "np.float64(0.08282126933203131)"
      ]
     },
     "execution_count": 143,
     "metadata": {},
     "output_type": "execute_result"
    }
   ],
   "source": [
    "z = np.dot(theta.T, x)\n",
    "z"
   ]
  },
  {
   "cell_type": "code",
   "execution_count": 144,
   "id": "fcac6f6d",
   "metadata": {},
   "outputs": [
    {
     "name": "stdout",
     "output_type": "stream",
     "text": [
      "0.52\n"
     ]
    }
   ],
   "source": [
    "y_hat = logistic_fn(z)\n",
    "print(f\"{y_hat:.2f}\")"
   ]
  },
  {
   "cell_type": "code",
   "execution_count": 145,
   "id": "481ed6d7",
   "metadata": {},
   "outputs": [
    {
     "data": {
      "text/plain": [
       "0.7354149906131442"
      ]
     },
     "execution_count": 145,
     "metadata": {},
     "output_type": "execute_result"
    }
   ],
   "source": [
    "# Compute loss\n",
    "loss = (-1 * y) * np.log(y_hat) - (1 - y) * np.log(1 - y_hat)\n",
    "float(loss[0])"
   ]
  },
  {
   "cell_type": "code",
   "execution_count": 146,
   "id": "34793626",
   "metadata": {},
   "outputs": [
    {
     "data": {
      "text/plain": [
       "array([0.52069349, 0.26034675])"
      ]
     },
     "execution_count": 146,
     "metadata": {},
     "output_type": "execute_result"
    }
   ],
   "source": [
    "# Compute derivation\n",
    "gradient = x*(y_hat - y)\n",
    "gradient"
   ]
  },
  {
   "cell_type": "code",
   "execution_count": 147,
   "id": "4600e294",
   "metadata": {},
   "outputs": [
    {
     "data": {
      "text/plain": [
       "array([-0.00581233,  0.04709383])"
      ]
     },
     "execution_count": 147,
     "metadata": {},
     "output_type": "execute_result"
    }
   ],
   "source": [
    "# Update parameter\n",
    "LEARNING_RATE = 0.1\n",
    "theta -= (LEARNING_RATE * gradient)\n",
    "theta"
   ]
  },
  {
   "cell_type": "markdown",
   "id": "17ea79f6",
   "metadata": {},
   "source": [
    "TEST SAMPLE"
   ]
  },
  {
   "cell_type": "code",
   "execution_count": 148,
   "id": "a00c2d43",
   "metadata": {},
   "outputs": [
    {
     "data": {
      "text/plain": [
       "np.float64(0.5014902767802163)"
      ]
     },
     "execution_count": 148,
     "metadata": {},
     "output_type": "execute_result"
    }
   ],
   "source": [
    "x_test = np.array([1.0, 0.25])\n",
    "z = np.dot(theta.T, x_test)\n",
    "y_hat = logistic_fn(z)\n",
    "y_hat"
   ]
  },
  {
   "cell_type": "code",
   "execution_count": 149,
   "id": "d1f88cca",
   "metadata": {},
   "outputs": [
    {
     "data": {
      "text/plain": [
       "np.float64(0.5513458377524659)"
      ]
     },
     "execution_count": 149,
     "metadata": {},
     "output_type": "execute_result"
    }
   ],
   "source": [
    "x_test = np.array([1.0, 4.5])\n",
    "z = np.dot(theta.T, x_test)\n",
    "y_hat = logistic_fn(z)\n",
    "y_hat"
   ]
  },
  {
   "cell_type": "markdown",
   "id": "68dc737e",
   "metadata": {},
   "source": [
    "Sample 3"
   ]
  },
  {
   "cell_type": "code",
   "execution_count": 152,
   "id": "4c8c7d36",
   "metadata": {},
   "outputs": [
    {
     "data": {
      "text/plain": [
       "((3,), (1,))"
      ]
     },
     "execution_count": 152,
     "metadata": {},
     "output_type": "execute_result"
    }
   ],
   "source": [
    "x = np.array([1.0, 1.0, 0.5])\n",
    "y = np.array([0])\n",
    "x.shape, y.shape"
   ]
  },
  {
   "cell_type": "code",
   "execution_count": 151,
   "id": "8c5d6cbd",
   "metadata": {},
   "outputs": [
    {
     "data": {
      "text/plain": [
       "array([0.1, 0.2, 0.1])"
      ]
     },
     "execution_count": 151,
     "metadata": {},
     "output_type": "execute_result"
    }
   ],
   "source": [
    "theta = np.array([0.1, 0.2, 0.1])\n",
    "theta"
   ]
  },
  {
   "cell_type": "code",
   "execution_count": 156,
   "id": "20534806",
   "metadata": {},
   "outputs": [],
   "source": [
    "# Forward\n",
    "def predict(x, theta):\n",
    "    z = np.dot(theta.T, x)\n",
    "    y_hat = logistic_fn(z)\n",
    "    return z, y_hat\n",
    "\n",
    "z, y_hat = predict(x, theta)"
   ]
  },
  {
   "cell_type": "code",
   "execution_count": 157,
   "id": "e0f89ebd",
   "metadata": {},
   "outputs": [
    {
     "data": {
      "text/plain": [
       "(np.float64(0.35000000000000003), np.float64(0.5866175789173301))"
      ]
     },
     "execution_count": 157,
     "metadata": {},
     "output_type": "execute_result"
    }
   ],
   "source": [
    "z, y_hat"
   ]
  },
  {
   "cell_type": "code",
   "execution_count": 158,
   "id": "161f09bd",
   "metadata": {},
   "outputs": [
    {
     "data": {
      "text/plain": [
       "array([0.88338216])"
      ]
     },
     "execution_count": 158,
     "metadata": {},
     "output_type": "execute_result"
    }
   ],
   "source": [
    "# Compute loss\n",
    "def compute_loss(y_hat, y):\n",
    "    loss = (-1 * y) * np.log(y_hat) - (1 - y) * np.log(1 - y_hat)\n",
    "    return loss\n",
    "\n",
    "loss = compute_loss(y_hat, y)\n",
    "loss"
   ]
  },
  {
   "cell_type": "code",
   "execution_count": 160,
   "id": "c8449f25",
   "metadata": {},
   "outputs": [
    {
     "data": {
      "text/plain": [
       "array([0.58661758, 0.58661758, 0.29330879])"
      ]
     },
     "execution_count": 160,
     "metadata": {},
     "output_type": "execute_result"
    }
   ],
   "source": [
    "# Compute gradient\n",
    "def compute_gradient(x, y_hat, y):\n",
    "    gradient = x * (y_hat - y)\n",
    "    return gradient\n",
    "\n",
    "gradient = compute_gradient(x, y_hat, y)\n",
    "gradient"
   ]
  },
  {
   "cell_type": "code",
   "execution_count": 161,
   "id": "52f7a6e1",
   "metadata": {},
   "outputs": [
    {
     "data": {
      "text/plain": [
       "array([0.04133824, 0.14133824, 0.07066912])"
      ]
     },
     "execution_count": 161,
     "metadata": {},
     "output_type": "execute_result"
    }
   ],
   "source": [
    "# Update weight\n",
    "def update_weight(gradient, theta, LEARNING_RATE=0.1):\n",
    "    theta -= (LEARNING_RATE * gradient)\n",
    "    return theta\n",
    "theta = update_weight(gradient, theta)\n",
    "theta"
   ]
  },
  {
   "cell_type": "markdown",
   "id": "803d1daa",
   "metadata": {},
   "source": [
    "Prediction"
   ]
  },
  {
   "cell_type": "code",
   "execution_count": 162,
   "id": "743ecd0c",
   "metadata": {},
   "outputs": [
    {
     "data": {
      "text/plain": [
       "(np.float64(0.34168200658833436), np.float64(0.5845990444988789))"
      ]
     },
     "execution_count": 162,
     "metadata": {},
     "output_type": "execute_result"
    }
   ],
   "source": [
    "x_test = np.array([1.0, 2.0, 0.25])\n",
    "z = np.dot(theta.T , x_test)\n",
    "y_hat = logistic_fn(z)\n",
    "z, y_hat"
   ]
  },
  {
   "cell_type": "code",
   "execution_count": 163,
   "id": "10d4d798",
   "metadata": {},
   "outputs": [
    {
     "data": {
      "text/plain": [
       "(np.float64(0.6420257710684018), np.float64(0.6552112452546174))"
      ]
     },
     "execution_count": 163,
     "metadata": {},
     "output_type": "execute_result"
    }
   ],
   "source": [
    "x_test = np.array([1.0, 2.0, 4.5])\n",
    "z = np.dot(theta.T , x_test)\n",
    "y_hat = logistic_fn(z)\n",
    "z, y_hat"
   ]
  },
  {
   "cell_type": "code",
   "execution_count": null,
   "id": "624d1a91",
   "metadata": {},
   "outputs": [],
   "source": []
  }
 ],
 "metadata": {
  "kernelspec": {
   "display_name": "aio-hw2024",
   "language": "python",
   "name": "python3"
  },
  "language_info": {
   "codemirror_mode": {
    "name": "ipython",
    "version": 3
   },
   "file_extension": ".py",
   "mimetype": "text/x-python",
   "name": "python",
   "nbconvert_exporter": "python",
   "pygments_lexer": "ipython3",
   "version": "3.9.21"
  }
 },
 "nbformat": 4,
 "nbformat_minor": 5
}

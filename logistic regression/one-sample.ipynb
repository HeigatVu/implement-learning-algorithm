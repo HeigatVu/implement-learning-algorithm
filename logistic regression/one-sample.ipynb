{
 "cells": [
  {
   "cell_type": "code",
   "execution_count": 22,
   "id": "ba85eedb",
   "metadata": {},
   "outputs": [],
   "source": [
    "import numpy as np"
   ]
  },
  {
   "cell_type": "markdown",
   "id": "87e53149",
   "metadata": {},
   "source": [
    "ONE SAMPLE"
   ]
  },
  {
   "cell_type": "code",
   "execution_count": 23,
   "id": "8140b373",
   "metadata": {},
   "outputs": [],
   "source": [
    "X = np.array([\n",
    "    [1.0, 0.5],\n",
    "    [2.0, 1.0],\n",
    "    [3.0, 1.5],\n",
    "    [2.0, 2.0],\n",
    "    [1.0, 2.5],\n",
    "    [2.0, 3.0],\n",
    "    [1.0, 3.5],\n",
    "    [2.0, 4.0],\n",
    "])\n",
    "Y = np.array([0, 0, 1, 0, 0, 1, 1, 1])"
   ]
  },
  {
   "cell_type": "code",
   "execution_count": 24,
   "id": "f0a2634d",
   "metadata": {},
   "outputs": [
    {
     "data": {
      "text/plain": [
       "((8, 2), (8,))"
      ]
     },
     "execution_count": 24,
     "metadata": {},
     "output_type": "execute_result"
    }
   ],
   "source": [
    "X.shape, Y.shape"
   ]
  },
  {
   "cell_type": "code",
   "execution_count": 25,
   "id": "fe644ae3",
   "metadata": {},
   "outputs": [
    {
     "data": {
      "text/plain": [
       "array([[1. , 1. , 0.5],\n",
       "       [1. , 2. , 1. ],\n",
       "       [1. , 3. , 1.5],\n",
       "       [1. , 2. , 2. ],\n",
       "       [1. , 1. , 2.5],\n",
       "       [1. , 2. , 3. ],\n",
       "       [1. , 1. , 3.5],\n",
       "       [1. , 2. , 4. ]])"
      ]
     },
     "execution_count": 25,
     "metadata": {},
     "output_type": "execute_result"
    }
   ],
   "source": [
    "# Creating bias with [1, X]]\n",
    "n_samples = X.shape[0]\n",
    "X = np.hstack([np.ones((n_samples, 1)), X])\n",
    "X"
   ]
  },
  {
   "cell_type": "code",
   "execution_count": 26,
   "id": "08e870fd",
   "metadata": {},
   "outputs": [
    {
     "data": {
      "text/plain": [
       "array([[1. , 1. , 1. , 1. , 1. , 1. , 1. , 1. ],\n",
       "       [1. , 2. , 3. , 2. , 1. , 2. , 1. , 2. ],\n",
       "       [0.5, 1. , 1.5, 2. , 2.5, 3. , 3.5, 4. ]])"
      ]
     },
     "execution_count": 26,
     "metadata": {},
     "output_type": "execute_result"
    }
   ],
   "source": [
    "X.T"
   ]
  },
  {
   "cell_type": "code",
   "execution_count": 27,
   "id": "0b83b275",
   "metadata": {},
   "outputs": [
    {
     "data": {
      "text/plain": [
       "(3,)"
      ]
     },
     "execution_count": 27,
     "metadata": {},
     "output_type": "execute_result"
    }
   ],
   "source": [
    "n_features = X.shape[1]\n",
    "theta = np.random.rand(n_features)\n",
    "theta.shape"
   ]
  },
  {
   "cell_type": "code",
   "execution_count": 28,
   "id": "09ad8e74",
   "metadata": {},
   "outputs": [],
   "source": [
    "# Compute logistic function\n",
    "def logistic_fn(x):\n",
    "    return 1 / (1 + np.exp(-x))\n",
    "\n",
    "# prediction -> y_hat shape = (8,)\n",
    "def predict(x, theta):\n",
    "    z = np.dot(x, theta)\n",
    "    y_hat = logistic_fn(z)\n",
    "    return z, y_hat\n",
    "\n",
    "# Compute loss function\n",
    "def compute_loss(y, y_hat):\n",
    "    loss = (-1 * y) * np.log(y_hat) - (1 - y) * np.log(1 - y_hat)\n",
    "    return loss\n",
    "\n",
    "# Compute gradient\n",
    "def compute_gradient(x, y, y_hat):\n",
    "    # gradient = np.dot(x.T, (y_hat - y))\n",
    "    gradient = np.dot((y_hat - y).T, x) \n",
    "    return gradient\n",
    "\n",
    "# Update weight\n",
    "def update_weight(theta, gradient, LEARNING_RATE=0.1):\n",
    "    new_theta = theta - (gradient * LEARNING_RATE)\n",
    "    return new_theta "
   ]
  },
  {
   "cell_type": "code",
   "execution_count": 31,
   "id": "3420f3e1",
   "metadata": {},
   "outputs": [
    {
     "data": {
      "text/plain": [
       "(array([0.19055788, 0.41884781, 0.58275507]),\n",
       " [np.float64(1.036593246541216),\n",
       "  np.float64(1.0296399526589533),\n",
       "  np.float64(1.022752422594704),\n",
       "  np.float64(1.0159312552422604),\n",
       "  np.float64(1.0091770343958446),\n",
       "  np.float64(1.00249032794435),\n",
       "  np.float64(0.9958716870689467),\n",
       "  np.float64(0.9893216454459773),\n",
       "  np.float64(0.9828407184571166),\n",
       "  np.float64(0.9764294024088148)])"
      ]
     },
     "execution_count": 31,
     "metadata": {},
     "output_type": "execute_result"
    }
   ],
   "source": [
    "# Parameter\n",
    "n_epochs = 10\n",
    "LEARNING_RATE = 0.001\n",
    "\n",
    "losses = []\n",
    "for epoch in range(n_epochs):\n",
    "    epoch_loss = []\n",
    "    for i in range(n_samples):\n",
    "        # Get a sample\n",
    "        x = X[i, :]\n",
    "        y = Y[i]\n",
    "\n",
    "        # prediction\n",
    "        z, y_hat = predict(x, theta)\n",
    "\n",
    "        # Compute loss\n",
    "        loss = compute_loss(y, y_hat)\n",
    "        epoch_loss.append(loss)\n",
    "\n",
    "        # Compute gradient\n",
    "        gradient = compute_gradient(x, y, y_hat)\n",
    "\n",
    "        # update weight\n",
    "        theta = update_weight(theta, gradient, LEARNING_RATE)\n",
    "    losses.append(sum(epoch_loss) / len(epoch_loss))\n",
    "\n",
    "\n",
    "theta, losses"
   ]
  },
  {
   "cell_type": "code",
   "execution_count": 32,
   "id": "ca67fdc4",
   "metadata": {},
   "outputs": [
    {
     "data": {
      "text/plain": [
       "(np.float64(1.1739422613615733), np.float64(0.763856858621262))"
      ]
     },
     "execution_count": 32,
     "metadata": {},
     "output_type": "execute_result"
    }
   ],
   "source": [
    "X_test = np.array([1.0, 2.0, 0.25])\n",
    "predict(X_test, theta)"
   ]
  },
  {
   "cell_type": "code",
   "execution_count": 33,
   "id": "3628911c",
   "metadata": {},
   "outputs": [
    {
     "data": {
      "text/plain": [
       "(np.float64(3.23180349857381), np.float64(0.9620137137129092))"
      ]
     },
     "execution_count": 33,
     "metadata": {},
     "output_type": "execute_result"
    }
   ],
   "source": [
    "X_test = np.array([1.0, 1.0, 4.5])\n",
    "predict(X_test, theta)"
   ]
  }
 ],
 "metadata": {
  "kernelspec": {
   "display_name": "aio-hw2024",
   "language": "python",
   "name": "python3"
  },
  "language_info": {
   "codemirror_mode": {
    "name": "ipython",
    "version": 3
   },
   "file_extension": ".py",
   "mimetype": "text/x-python",
   "name": "python",
   "nbconvert_exporter": "python",
   "pygments_lexer": "ipython3",
   "version": "3.9.21"
  }
 },
 "nbformat": 4,
 "nbformat_minor": 5
}
